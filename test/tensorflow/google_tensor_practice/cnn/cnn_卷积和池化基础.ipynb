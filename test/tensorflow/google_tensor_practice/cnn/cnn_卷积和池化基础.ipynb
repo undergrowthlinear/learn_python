{
 "cells": [
  {
   "cell_type": "markdown",
   "metadata": {},
   "source": [
    "#### 1. 卷积样例"
   ]
  },
  {
   "cell_type": "code",
   "execution_count": 1,
   "metadata": {
    "collapsed": true
   },
   "outputs": [],
   "source": [
    "import tensorflow as tf"
   ]
  },
  {
   "cell_type": "code",
   "execution_count": 6,
   "metadata": {
    "collapsed": true
   },
   "outputs": [],
   "source": [
    "# input输入图像是一个四维矩阵\n",
    "# 第1维是第X个图像\n",
    "# 第2第3维是长度宽度为32*32\n",
    "# 第4维是RGB颜色通道数为3的矩阵\n",
    "input = tf.placeholder(\n",
    "    name='input',\n",
    "    shape=[None, 32, 32, 3], \n",
    "    dtype=tf.float32\n",
    ")\n",
    "\n",
    "# filter是一个四维矩阵\n",
    "# 第1第2维是过滤器尺寸width和height（5*5），\n",
    "# 第3维当前层深度（3）\n",
    "# 第4维是过滤器深度（16）\n",
    "# 初始化为正态分布的随机变量\n",
    "filter_weight = tf.get_variable(\n",
    "    name='f_weights', \n",
    "    shape=[5, 5, 3, 16], \n",
    "    initializer=tf.truncated_normal_initializer(stddev=0.1)\n",
    ")\n",
    "\n",
    "# biases偏置量是一个一维矩阵\n",
    "# 第1维是偏置量的深度（16）\n",
    "# 初始化为数值都是0.1的一维矩阵\n",
    "biases = tf.get_variable(\n",
    "    name='f_biases', \n",
    "    shape=[16], \n",
    "    initializer=tf.constant_initializer(0.1)\n",
    ")\n",
    "\n",
    "# tf.nn.conv2d的strides步长参数\n",
    "# strides步长是一个四维矩阵\n",
    "# 第1维和第4维必须为1，因为卷积层的步长只对矩阵的长宽有效\n",
    "# 第2维和第3维是长和宽的步长\n",
    "# \n",
    "# tf.nn.conv2d的padding参数只提供两种SAME以及VAILD\n",
    "# SAME表示添加0填充\n",
    "# VAILD表示不添加填充\n",
    "conv = tf.nn.conv2d(\n",
    "    input=input, \n",
    "    filter=filter_weight, \n",
    "    strides=[1,1,1,1], \n",
    "    padding='SAME'\n",
    ")\n",
    "\n",
    "# tf.nn.bias_add提供了一个方便的函数给节点添加偏置量（注意这里不能直接使用加法，因为矩阵上不同位置上的节点都需要加上同样的偏置量）\n",
    "# 例如下一层神经网络的大小为2*2，但是偏置量只有一个数（因为深度为1），而2*2矩阵的每一个项都需要加上这个偏置量。\n",
    "bias = tf.nn.bias_add(value=conv, bias=biases)\n",
    "\n",
    "# 把计算结果通过relu激活函数进行去线性化\n",
    "actived_conv = tf.nn.relu(features=bias)\n"
   ]
  },
  {
   "cell_type": "markdown",
   "metadata": {},
   "source": [
    "#### 2. 池化样例"
   ]
  },
  {
   "cell_type": "code",
   "execution_count": 7,
   "metadata": {
    "collapsed": true
   },
   "outputs": [],
   "source": [
    "# 池化有两种常用的池化\n",
    "# tf.nn.max_pool最大值池化\n",
    "# tf.nn.avg_pool均值池化\n",
    "\n",
    "# ksize为池化层过滤器filter的尺寸，过滤器的头尾两个维度必须等于1\n",
    "# 实际中使用最多的尺寸是[1,2,2,1]或者[1,3,3,1]\n",
    "# strides为池化层过滤器步长\n",
    "pool = tf.nn.max_pool(\n",
    "    value=actived_conv, \n",
    "    ksize=[1,3,3,1], \n",
    "    strides=[1,2,2,1], \n",
    "    padding='SAME'\n",
    ")\n"
   ]
  },
  {
   "cell_type": "code",
   "execution_count": 10,
   "metadata": {},
   "outputs": [
    {
     "name": "stdout",
     "output_type": "stream",
     "text": [
      "[0.1 0.1 0.1 0.1 0.1 0.1 0.1 0.1 0.1 0.1 0.1 0.1 0.1 0.1 0.1 0.1]\n[[[[-1.10630393e-01  1.56498045e-01  2.62342896e-02 ...  1.45190274e-02\n     2.35682651e-02 -1.16154097e-01]\n   [ 8.87815133e-02 -1.11391045e-01  3.77596132e-02 ...  1.29492566e-01\n    -4.22380567e-02 -8.22345074e-03]\n   [ 4.67820168e-02 -8.92679766e-02  4.03814837e-02 ... -1.32560730e-02\n     1.77506015e-01 -1.38366655e-01]]\n\n  [[-4.54392023e-02  2.09369995e-02 -3.32499482e-02 ... -1.66775748e-01\n     1.17820166e-01 -7.01066330e-02]\n   [ 2.15111300e-02 -5.16597517e-02 -3.97766288e-03 ... -7.83044696e-02\n     3.17829065e-02 -3.58453356e-02]\n   [ 6.89817891e-02  1.43577298e-02 -5.27203502e-03 ...  9.16470587e-02\n     8.08307726e-04 -8.92001018e-02]]\n\n  [[-2.32136436e-02  1.17410839e-01  1.23087130e-03 ... -7.15866387e-02\n    -7.03707710e-02  6.38258085e-02]\n   [ 1.49325375e-02 -1.75707340e-01 -1.21404767e-01 ... -9.52439010e-02\n    -1.34295776e-01 -2.94838548e-02]\n   [-7.54070058e-02 -5.66277280e-02  6.52733669e-02 ...  5.50142583e-03\n     6.79855868e-02  9.90606006e-03]]\n\n  [[-1.24278283e-02 -2.29054634e-02 -6.83607534e-02 ...  1.91893652e-01\n    -1.43151179e-01 -4.26270887e-02]\n   [-4.74221371e-02 -2.84728203e-02 -2.40456942e-03 ... -9.70264673e-02\n    -1.48558781e-01 -5.39563484e-02]\n   [-2.84186210e-02  1.53927252e-01  1.50767490e-01 ... -1.77376494e-02\n     3.95721346e-02  1.32488152e-02]]\n\n  [[ 1.17426626e-01 -8.39112254e-05  7.41781518e-02 ... -2.44792756e-02\n    -5.96998148e-02  1.05042830e-01]\n   [ 8.17013904e-02 -1.41688287e-01 -1.15273893e-03 ...  6.60146847e-02\n     5.06406017e-02  2.53643346e-04]\n   [ 3.82792018e-03  6.03395812e-02  1.45099029e-01 ...  2.38003931e-03\n     1.91434130e-01  4.78553586e-03]]]\n\n\n [[[ 1.03983888e-02 -7.75425870e-04 -9.69944224e-02 ... -1.82693705e-01\n     1.23411573e-01  3.24228778e-03]\n   [-9.93812829e-02 -9.17201955e-03 -4.88759093e-02 ...  6.94560111e-02\n    -5.03700934e-02  1.19214468e-01]\n   [ 9.88642201e-02 -7.91203007e-02 -2.86166165e-02 ... -3.79793160e-02\n    -4.94924150e-02  1.48210591e-02]]\n\n  [[-5.10718348e-03 -9.67682619e-03  1.54142650e-02 ... -2.73611583e-02\n    -1.43277347e-02  2.14377642e-02]\n   [ 1.03060722e-01  2.03455351e-02 -8.18426535e-02 ... -1.03045538e-01\n    -1.10227503e-01  9.39525478e-03]\n   [-1.10236168e-01  1.96048260e-01  3.35426293e-02 ... -1.01958893e-01\n    -5.77763505e-02 -1.06586315e-01]]\n\n  [[-7.08743185e-02 -2.08280794e-02 -1.14869587e-01 ... -1.60107374e-01\n    -2.67945882e-02 -1.34739131e-02]\n   [ 3.99922393e-02  6.50979578e-02  7.13003203e-02 ... -1.13700964e-01\n     1.70769673e-02  8.64127576e-02]\n   [-7.60984644e-02 -8.72722864e-02 -4.45743501e-02 ... -1.02095805e-01\n    -8.05302486e-02 -1.93972468e-01]]\n\n  [[-4.66750525e-02  2.22947150e-02 -4.37650345e-02 ...  6.84748217e-02\n     4.90032732e-02 -4.79442067e-03]\n   [-7.23786876e-02 -9.29643866e-03 -9.46321487e-02 ...  5.43596558e-02\n     1.21677652e-01  6.07497469e-02]\n   [-1.78899258e-01 -5.33654690e-02 -5.52500971e-02 ...  1.20139733e-01\n     1.13549298e-02  4.58405130e-02]]\n\n  [[ 5.75140007e-02  2.67534703e-02 -2.21157614e-02 ...  2.78450232e-02\n     7.28966221e-02 -6.53240224e-03]\n   [-4.01115529e-02  9.55268666e-02 -1.04238115e-01 ...  1.94501635e-02\n    -8.20755735e-02 -1.07202731e-01]\n   [-1.56296473e-02 -5.82162440e-02  3.82868424e-02 ... -3.95521708e-03\n     2.84470655e-02  7.48069212e-02]]]\n\n\n [[[ 3.72022875e-02 -1.12255953e-01 -1.79649412e-03 ... -2.70354934e-02\n    -6.70664832e-02 -9.94859934e-02]\n   [-1.36340857e-02  8.01154450e-02  5.47634363e-02 ...  1.36397511e-01\n     3.48676555e-03  9.30481032e-02]\n   [ 5.12946546e-02  3.66329551e-02  1.00365942e-02 ...  9.45572741e-04\n     7.89697096e-02  1.03913240e-01]]\n\n  [[ 4.88554612e-02 -9.21318755e-02  8.53247792e-02 ...  3.34646329e-02\n     1.35977492e-02  1.04089513e-01]\n   [ 5.83404861e-02  3.75590250e-02  3.29095460e-02 ... -8.71330574e-02\n    -2.75574308e-02 -5.63735142e-02]\n   [-4.86199111e-02 -6.18473403e-02  1.21819479e-02 ... -1.25544623e-01\n    -1.10006489e-01 -7.54666477e-02]]\n\n  [[-7.70813823e-02 -1.16958143e-02  9.14054140e-02 ... -1.29435793e-01\n     1.39552966e-01 -1.55213773e-01]\n   [-5.31271100e-02 -7.01538175e-02 -1.15335755e-01 ...  1.34559274e-01\n     1.40595317e-01 -1.57006774e-02]\n   [-5.75234182e-02 -1.77948356e-01 -7.59766400e-02 ...  1.77566782e-01\n     4.07837257e-02  7.73390308e-02]]\n\n  [[-8.35583061e-02 -1.16731726e-01  5.94997965e-02 ... -8.39655399e-02\n     6.68505058e-02  8.86778757e-02]\n   [-5.09089697e-03 -1.03961527e-01  8.96038711e-02 ... -8.65273084e-03\n     1.81291565e-01  5.33774085e-02]\n   [ 3.81240658e-02  8.96208510e-02 -1.31986529e-01 ...  1.21099845e-01\n     1.47943795e-01 -2.22959439e-03]]\n\n  [[ 7.82245249e-02 -3.74881215e-02  1.17632702e-01 ... -9.99242514e-02\n     5.86102083e-02 -3.48420143e-02]\n   [ 1.89271010e-02  1.37763828e-01  1.28544040e-03 ...  7.18598887e-02\n     3.74257825e-02  2.15714481e-02]\n   [-1.26076624e-01 -2.10660975e-03  1.26313299e-01 ... -6.81467280e-02\n    -4.95717414e-02  4.09774110e-02]]]\n\n\n [[[-1.19911924e-01  1.81216195e-01 -6.31096424e-04 ...  7.48228878e-02\n    -5.30520640e-02  1.89742278e-02]\n   [ 3.72496173e-02 -1.14245057e-01  8.71472284e-02 ... -5.00443066e-03\n    -8.20085704e-02  8.43536332e-02]\n   [-3.10726054e-02  8.26849788e-03  9.02431011e-02 ... -7.16768727e-02\n     1.71337929e-02  1.24792038e-02]]\n\n  [[-2.92736175e-03  9.55241770e-02 -7.38987699e-02 ...  2.67381966e-02\n    -1.08560421e-01  9.82922241e-02]\n   [-3.15093994e-02  2.60802992e-02  6.94856420e-02 ...  1.28514692e-01\n    -1.58691451e-01 -1.51982382e-01]\n   [-7.13681504e-02 -1.33396283e-01  6.63956031e-02 ... -1.17492370e-01\n     1.66581020e-01 -2.44103502e-02]]\n\n  [[-5.98648265e-02  8.23999867e-02  4.98508997e-02 ...  1.00903586e-02\n     2.32475414e-03  2.27568690e-02]\n   [-1.61174342e-01 -1.80960968e-02 -1.47567913e-01 ... -9.19442326e-02\n     3.27869020e-02 -1.35093555e-01]\n   [ 3.07416078e-02  9.05748736e-03 -6.41301498e-02 ... -8.88291746e-02\n    -7.71506727e-02  1.56252638e-01]]\n\n  [[ 3.35083194e-02  9.51103643e-02 -5.72203211e-02 ...  1.05314903e-01\n    -4.39739488e-02 -1.74397533e-03]\n   [ 2.05301344e-02 -1.26193494e-01  6.67350590e-02 ... -3.00658941e-02\n     1.65425043e-03 -1.20653152e-01]\n   [ 2.06786897e-02 -1.02186158e-01 -1.47111183e-02 ...  1.07693747e-01\n     6.53541014e-02  7.72712976e-02]]\n\n  [[-3.94615903e-02 -2.18878407e-02 -6.17230944e-02 ...  8.55433866e-02\n    -1.22444414e-01 -1.36380136e-01]\n   [-7.17452690e-02  1.32499322e-01 -1.37978986e-01 ... -1.36038080e-01\n    -1.25207275e-01 -4.15923968e-02]\n   [ 9.51026827e-02 -1.96702451e-01  3.26661617e-02 ... -3.61935794e-02\n     8.96645430e-03 -3.56336832e-02]]]\n\n\n [[[ 1.76624760e-01  6.67941337e-03  1.42995283e-01 ...  1.15167730e-01\n     1.08440399e-01 -1.49128750e-01]\n   [-5.26537485e-02  4.94444463e-03 -1.58062816e-01 ... -7.19776601e-02\n    -4.31037657e-02  1.27496049e-01]\n   [ 8.86187702e-02 -5.41576045e-03  5.68753183e-02 ... -6.62865713e-02\n     6.99870437e-02 -5.90863489e-02]]\n\n  [[-1.18497126e-01 -9.97908413e-02 -1.29042685e-01 ...  8.64130538e-03\n     9.36910361e-02 -3.56682763e-02]\n   [-1.35423213e-01  9.39477012e-02 -2.35850625e-02 ... -6.88803419e-02\n    -2.01996230e-02 -1.09661045e-02]\n   [-6.68314546e-02  5.83290530e-04  1.66106686e-01 ...  4.11083065e-02\n     1.16297640e-01  6.98722303e-02]]\n\n  [[ 4.19511497e-02  1.09439455e-01 -1.60959706e-01 ... -9.86091346e-02\n    -6.27860874e-02 -1.74195748e-02]\n   [-6.99156076e-02  6.92768246e-02 -1.56814512e-02 ... -1.05205327e-02\n    -8.21278319e-02  3.99388783e-02]\n   [ 1.26410365e-01  8.21416974e-02 -1.92309376e-02 ... -5.26398383e-02\n     2.03231778e-02 -1.11510932e-01]]\n\n  [[-5.12688048e-02 -6.83325231e-02 -2.66170409e-02 ...  1.00903712e-01\n     4.02663238e-02  7.52455294e-02]\n   [ 1.51397645e-01  1.94681540e-01 -7.05929548e-02 ...  1.34160314e-02\n     1.15471557e-01  5.57476841e-02]\n   [ 2.02336144e-02  1.71824824e-03 -2.05070060e-02 ...  1.89481582e-02\n     9.32634994e-03 -1.89205989e-01]]\n\n  [[-2.59772758e-03  1.56660184e-01 -5.44511378e-02 ...  3.83052342e-02\n     1.24564961e-01  1.36035150e-02]\n   [ 5.15035875e-02  1.57952271e-02  1.74716845e-01 ...  7.26802573e-02\n    -1.70400664e-01 -1.31888464e-01]\n   [-1.51700899e-02  1.03816107e-01  1.34329781e-01 ... -5.90167046e-02\n     2.94983126e-02  1.55665487e-01]]]]\n"
     ]
    },
    {
     "ename": "InvalidArgumentError",
     "evalue": "Shape [-1,32,32,3] has negative dimensions\n\t [[Node: input_4 = Placeholder[dtype=DT_FLOAT, shape=[?,32,32,3], _device=\"/job:localhost/replica:0/task:0/cpu:0\"]()]]\n\nCaused by op 'input_4', defined at:\n  File \"D:\\Users\\under\\Anaconda3\\envs\\tensorflow\\lib\\runpy.py\", line 193, in _run_module_as_main\n    \"__main__\", mod_spec)\n  File \"D:\\Users\\under\\Anaconda3\\envs\\tensorflow\\lib\\runpy.py\", line 85, in _run_code\n    exec(code, run_globals)\n  File \"D:\\Users\\under\\Anaconda3\\envs\\tensorflow\\lib\\site-packages\\ipykernel_launcher.py\", line 16, in <module>\n    app.launch_new_instance()\n  File \"D:\\Users\\under\\Anaconda3\\envs\\tensorflow\\lib\\site-packages\\traitlets\\config\\application.py\", line 658, in launch_instance\n    app.start()\n  File \"D:\\Users\\under\\Anaconda3\\envs\\tensorflow\\lib\\site-packages\\ipykernel\\kernelapp.py\", line 486, in start\n    self.io_loop.start()\n  File \"D:\\Users\\under\\Anaconda3\\envs\\tensorflow\\lib\\site-packages\\tornado\\platform\\asyncio.py\", line 112, in start\n    self.asyncio_loop.run_forever()\n  File \"D:\\Users\\under\\Anaconda3\\envs\\tensorflow\\lib\\asyncio\\base_events.py\", line 421, in run_forever\n    self._run_once()\n  File \"D:\\Users\\under\\Anaconda3\\envs\\tensorflow\\lib\\asyncio\\base_events.py\", line 1425, in _run_once\n    handle._run()\n  File \"D:\\Users\\under\\Anaconda3\\envs\\tensorflow\\lib\\asyncio\\events.py\", line 127, in _run\n    self._callback(*self._args)\n  File \"D:\\Users\\under\\Anaconda3\\envs\\tensorflow\\lib\\site-packages\\tornado\\platform\\asyncio.py\", line 102, in _handle_events\n    handler_func(fileobj, events)\n  File \"D:\\Users\\under\\Anaconda3\\envs\\tensorflow\\lib\\site-packages\\tornado\\stack_context.py\", line 276, in null_wrapper\n    return fn(*args, **kwargs)\n  File \"D:\\Users\\under\\Anaconda3\\envs\\tensorflow\\lib\\site-packages\\zmq\\eventloop\\zmqstream.py\", line 450, in _handle_events\n    self._handle_recv()\n  File \"D:\\Users\\under\\Anaconda3\\envs\\tensorflow\\lib\\site-packages\\zmq\\eventloop\\zmqstream.py\", line 480, in _handle_recv\n    self._run_callback(callback, msg)\n  File \"D:\\Users\\under\\Anaconda3\\envs\\tensorflow\\lib\\site-packages\\zmq\\eventloop\\zmqstream.py\", line 432, in _run_callback\n    callback(*args, **kwargs)\n  File \"D:\\Users\\under\\Anaconda3\\envs\\tensorflow\\lib\\site-packages\\tornado\\stack_context.py\", line 276, in null_wrapper\n    return fn(*args, **kwargs)\n  File \"D:\\Users\\under\\Anaconda3\\envs\\tensorflow\\lib\\site-packages\\ipykernel\\kernelbase.py\", line 283, in dispatcher\n    return self.dispatch_shell(stream, msg)\n  File \"D:\\Users\\under\\Anaconda3\\envs\\tensorflow\\lib\\site-packages\\ipykernel\\kernelbase.py\", line 233, in dispatch_shell\n    handler(stream, idents, msg)\n  File \"D:\\Users\\under\\Anaconda3\\envs\\tensorflow\\lib\\site-packages\\ipykernel\\kernelbase.py\", line 399, in execute_request\n    user_expressions, allow_stdin)\n  File \"D:\\Users\\under\\Anaconda3\\envs\\tensorflow\\lib\\site-packages\\ipykernel\\ipkernel.py\", line 208, in do_execute\n    res = shell.run_cell(code, store_history=store_history, silent=silent)\n  File \"D:\\Users\\under\\Anaconda3\\envs\\tensorflow\\lib\\site-packages\\ipykernel\\zmqshell.py\", line 537, in run_cell\n    return super(ZMQInteractiveShell, self).run_cell(*args, **kwargs)\n  File \"D:\\Users\\under\\Anaconda3\\envs\\tensorflow\\lib\\site-packages\\IPython\\core\\interactiveshell.py\", line 2705, in run_cell\n    interactivity=interactivity, compiler=compiler, result=result)\n  File \"D:\\Users\\under\\Anaconda3\\envs\\tensorflow\\lib\\site-packages\\IPython\\core\\interactiveshell.py\", line 2809, in run_ast_nodes\n    if self.run_code(code, result):\n  File \"D:\\Users\\under\\Anaconda3\\envs\\tensorflow\\lib\\site-packages\\IPython\\core\\interactiveshell.py\", line 2869, in run_code\n    exec(code_obj, self.user_global_ns, self.user_ns)\n  File \"<ipython-input-6-6db67fd8bdc1>\", line 8, in <module>\n    dtype=tf.float32\n  File \"D:\\Users\\under\\Anaconda3\\envs\\tensorflow\\lib\\site-packages\\tensorflow\\python\\ops\\array_ops.py\", line 1530, in placeholder\n    return gen_array_ops._placeholder(dtype=dtype, shape=shape, name=name)\n  File \"D:\\Users\\under\\Anaconda3\\envs\\tensorflow\\lib\\site-packages\\tensorflow\\python\\ops\\gen_array_ops.py\", line 1954, in _placeholder\n    name=name)\n  File \"D:\\Users\\under\\Anaconda3\\envs\\tensorflow\\lib\\site-packages\\tensorflow\\python\\framework\\op_def_library.py\", line 767, in apply_op\n    op_def=op_def)\n  File \"D:\\Users\\under\\Anaconda3\\envs\\tensorflow\\lib\\site-packages\\tensorflow\\python\\framework\\ops.py\", line 2506, in create_op\n    original_op=self._default_original_op, op_def=op_def)\n  File \"D:\\Users\\under\\Anaconda3\\envs\\tensorflow\\lib\\site-packages\\tensorflow\\python\\framework\\ops.py\", line 1269, in __init__\n    self._traceback = _extract_stack()\n\nInvalidArgumentError (see above for traceback): Shape [-1,32,32,3] has negative dimensions\n\t [[Node: input_4 = Placeholder[dtype=DT_FLOAT, shape=[?,32,32,3], _device=\"/job:localhost/replica:0/task:0/cpu:0\"]()]]\n",
     "traceback": [
      "\u001b[0;31m---------------------------------------------------------------------------\u001b[0m",
      "\u001b[0;31mInvalidArgumentError\u001b[0m                      Traceback (most recent call last)",
      "\u001b[0;32mD:\\Users\\under\\Anaconda3\\envs\\tensorflow\\lib\\site-packages\\tensorflow\\python\\client\\session.py\u001b[0m in \u001b[0;36m_do_call\u001b[0;34m(self, fn, *args)\u001b[0m\n\u001b[1;32m   1138\u001b[0m     \u001b[0;32mtry\u001b[0m\u001b[0;34m:\u001b[0m\u001b[0;34m\u001b[0m\u001b[0m\n\u001b[0;32m-> 1139\u001b[0;31m       \u001b[0;32mreturn\u001b[0m \u001b[0mfn\u001b[0m\u001b[0;34m(\u001b[0m\u001b[0;34m*\u001b[0m\u001b[0margs\u001b[0m\u001b[0;34m)\u001b[0m\u001b[0;34m\u001b[0m\u001b[0m\n\u001b[0m\u001b[1;32m   1140\u001b[0m     \u001b[0;32mexcept\u001b[0m \u001b[0merrors\u001b[0m\u001b[0;34m.\u001b[0m\u001b[0mOpError\u001b[0m \u001b[0;32mas\u001b[0m \u001b[0me\u001b[0m\u001b[0;34m:\u001b[0m\u001b[0;34m\u001b[0m\u001b[0m\n",
      "\u001b[0;32mD:\\Users\\under\\Anaconda3\\envs\\tensorflow\\lib\\site-packages\\tensorflow\\python\\client\\session.py\u001b[0m in \u001b[0;36m_run_fn\u001b[0;34m(session, feed_dict, fetch_list, target_list, options, run_metadata)\u001b[0m\n\u001b[1;32m   1120\u001b[0m                                  \u001b[0mfeed_dict\u001b[0m\u001b[0;34m,\u001b[0m \u001b[0mfetch_list\u001b[0m\u001b[0;34m,\u001b[0m \u001b[0mtarget_list\u001b[0m\u001b[0;34m,\u001b[0m\u001b[0;34m\u001b[0m\u001b[0m\n\u001b[0;32m-> 1121\u001b[0;31m                                  status, run_metadata)\n\u001b[0m\u001b[1;32m   1122\u001b[0m \u001b[0;34m\u001b[0m\u001b[0m\n",
      "\u001b[0;32mD:\\Users\\under\\Anaconda3\\envs\\tensorflow\\lib\\contextlib.py\u001b[0m in \u001b[0;36m__exit__\u001b[0;34m(self, type, value, traceback)\u001b[0m\n\u001b[1;32m     65\u001b[0m             \u001b[0;32mtry\u001b[0m\u001b[0;34m:\u001b[0m\u001b[0;34m\u001b[0m\u001b[0m\n\u001b[0;32m---> 66\u001b[0;31m                 \u001b[0mnext\u001b[0m\u001b[0;34m(\u001b[0m\u001b[0mself\u001b[0m\u001b[0;34m.\u001b[0m\u001b[0mgen\u001b[0m\u001b[0;34m)\u001b[0m\u001b[0;34m\u001b[0m\u001b[0m\n\u001b[0m\u001b[1;32m     67\u001b[0m             \u001b[0;32mexcept\u001b[0m \u001b[0mStopIteration\u001b[0m\u001b[0;34m:\u001b[0m\u001b[0;34m\u001b[0m\u001b[0m\n",
      "\u001b[0;32mD:\\Users\\under\\Anaconda3\\envs\\tensorflow\\lib\\site-packages\\tensorflow\\python\\framework\\errors_impl.py\u001b[0m in \u001b[0;36mraise_exception_on_not_ok_status\u001b[0;34m()\u001b[0m\n\u001b[1;32m    465\u001b[0m           \u001b[0mcompat\u001b[0m\u001b[0;34m.\u001b[0m\u001b[0mas_text\u001b[0m\u001b[0;34m(\u001b[0m\u001b[0mpywrap_tensorflow\u001b[0m\u001b[0;34m.\u001b[0m\u001b[0mTF_Message\u001b[0m\u001b[0;34m(\u001b[0m\u001b[0mstatus\u001b[0m\u001b[0;34m)\u001b[0m\u001b[0;34m)\u001b[0m\u001b[0;34m,\u001b[0m\u001b[0;34m\u001b[0m\u001b[0m\n\u001b[0;32m--> 466\u001b[0;31m           pywrap_tensorflow.TF_GetCode(status))\n\u001b[0m\u001b[1;32m    467\u001b[0m   \u001b[0;32mfinally\u001b[0m\u001b[0;34m:\u001b[0m\u001b[0;34m\u001b[0m\u001b[0m\n",
      "\u001b[0;31mInvalidArgumentError\u001b[0m: Shape [-1,32,32,3] has negative dimensions\n\t [[Node: input_4 = Placeholder[dtype=DT_FLOAT, shape=[?,32,32,3], _device=\"/job:localhost/replica:0/task:0/cpu:0\"]()]]",
      "\nDuring handling of the above exception, another exception occurred:\n",
      "\u001b[0;31mInvalidArgumentError\u001b[0m                      Traceback (most recent call last)",
      "\u001b[0;32m<ipython-input-10-97e27e7c8391>\u001b[0m in \u001b[0;36m<module>\u001b[0;34m()\u001b[0m\n\u001b[1;32m      4\u001b[0m     \u001b[0mprint\u001b[0m\u001b[0;34m(\u001b[0m\u001b[0msess\u001b[0m\u001b[0;34m.\u001b[0m\u001b[0mrun\u001b[0m\u001b[0;34m(\u001b[0m\u001b[0mfilter_weight\u001b[0m\u001b[0;34m)\u001b[0m\u001b[0;34m)\u001b[0m\u001b[0;34m\u001b[0m\u001b[0m\n\u001b[1;32m      5\u001b[0m     \u001b[0;31m# print(sess.run(actived_conv))\u001b[0m\u001b[0;34m\u001b[0m\u001b[0;34m\u001b[0m\u001b[0m\n\u001b[0;32m----> 6\u001b[0;31m     \u001b[0mprint\u001b[0m\u001b[0;34m(\u001b[0m\u001b[0msess\u001b[0m\u001b[0;34m.\u001b[0m\u001b[0mrun\u001b[0m\u001b[0;34m(\u001b[0m\u001b[0mpool\u001b[0m\u001b[0;34m)\u001b[0m\u001b[0;34m)\u001b[0m\u001b[0;34m\u001b[0m\u001b[0m\n\u001b[0m",
      "\u001b[0;32mD:\\Users\\under\\Anaconda3\\envs\\tensorflow\\lib\\site-packages\\tensorflow\\python\\client\\session.py\u001b[0m in \u001b[0;36mrun\u001b[0;34m(self, fetches, feed_dict, options, run_metadata)\u001b[0m\n\u001b[1;32m    787\u001b[0m     \u001b[0;32mtry\u001b[0m\u001b[0;34m:\u001b[0m\u001b[0;34m\u001b[0m\u001b[0m\n\u001b[1;32m    788\u001b[0m       result = self._run(None, fetches, feed_dict, options_ptr,\n\u001b[0;32m--> 789\u001b[0;31m                          run_metadata_ptr)\n\u001b[0m\u001b[1;32m    790\u001b[0m       \u001b[0;32mif\u001b[0m \u001b[0mrun_metadata\u001b[0m\u001b[0;34m:\u001b[0m\u001b[0;34m\u001b[0m\u001b[0m\n\u001b[1;32m    791\u001b[0m         \u001b[0mproto_data\u001b[0m \u001b[0;34m=\u001b[0m \u001b[0mtf_session\u001b[0m\u001b[0;34m.\u001b[0m\u001b[0mTF_GetBuffer\u001b[0m\u001b[0;34m(\u001b[0m\u001b[0mrun_metadata_ptr\u001b[0m\u001b[0;34m)\u001b[0m\u001b[0;34m\u001b[0m\u001b[0m\n",
      "\u001b[0;32mD:\\Users\\under\\Anaconda3\\envs\\tensorflow\\lib\\site-packages\\tensorflow\\python\\client\\session.py\u001b[0m in \u001b[0;36m_run\u001b[0;34m(self, handle, fetches, feed_dict, options, run_metadata)\u001b[0m\n\u001b[1;32m    995\u001b[0m     \u001b[0;32mif\u001b[0m \u001b[0mfinal_fetches\u001b[0m \u001b[0;32mor\u001b[0m \u001b[0mfinal_targets\u001b[0m\u001b[0;34m:\u001b[0m\u001b[0;34m\u001b[0m\u001b[0m\n\u001b[1;32m    996\u001b[0m       results = self._do_run(handle, final_targets, final_fetches,\n\u001b[0;32m--> 997\u001b[0;31m                              feed_dict_string, options, run_metadata)\n\u001b[0m\u001b[1;32m    998\u001b[0m     \u001b[0;32melse\u001b[0m\u001b[0;34m:\u001b[0m\u001b[0;34m\u001b[0m\u001b[0m\n\u001b[1;32m    999\u001b[0m       \u001b[0mresults\u001b[0m \u001b[0;34m=\u001b[0m \u001b[0;34m[\u001b[0m\u001b[0;34m]\u001b[0m\u001b[0;34m\u001b[0m\u001b[0m\n",
      "\u001b[0;32mD:\\Users\\under\\Anaconda3\\envs\\tensorflow\\lib\\site-packages\\tensorflow\\python\\client\\session.py\u001b[0m in \u001b[0;36m_do_run\u001b[0;34m(self, handle, target_list, fetch_list, feed_dict, options, run_metadata)\u001b[0m\n\u001b[1;32m   1130\u001b[0m     \u001b[0;32mif\u001b[0m \u001b[0mhandle\u001b[0m \u001b[0;32mis\u001b[0m \u001b[0;32mNone\u001b[0m\u001b[0;34m:\u001b[0m\u001b[0;34m\u001b[0m\u001b[0m\n\u001b[1;32m   1131\u001b[0m       return self._do_call(_run_fn, self._session, feed_dict, fetch_list,\n\u001b[0;32m-> 1132\u001b[0;31m                            target_list, options, run_metadata)\n\u001b[0m\u001b[1;32m   1133\u001b[0m     \u001b[0;32melse\u001b[0m\u001b[0;34m:\u001b[0m\u001b[0;34m\u001b[0m\u001b[0m\n\u001b[1;32m   1134\u001b[0m       return self._do_call(_prun_fn, self._session, handle, feed_dict,\n",
      "\u001b[0;32mD:\\Users\\under\\Anaconda3\\envs\\tensorflow\\lib\\site-packages\\tensorflow\\python\\client\\session.py\u001b[0m in \u001b[0;36m_do_call\u001b[0;34m(self, fn, *args)\u001b[0m\n\u001b[1;32m   1150\u001b[0m         \u001b[0;32mexcept\u001b[0m \u001b[0mKeyError\u001b[0m\u001b[0;34m:\u001b[0m\u001b[0;34m\u001b[0m\u001b[0m\n\u001b[1;32m   1151\u001b[0m           \u001b[0;32mpass\u001b[0m\u001b[0;34m\u001b[0m\u001b[0m\n\u001b[0;32m-> 1152\u001b[0;31m       \u001b[0;32mraise\u001b[0m \u001b[0mtype\u001b[0m\u001b[0;34m(\u001b[0m\u001b[0me\u001b[0m\u001b[0;34m)\u001b[0m\u001b[0;34m(\u001b[0m\u001b[0mnode_def\u001b[0m\u001b[0;34m,\u001b[0m \u001b[0mop\u001b[0m\u001b[0;34m,\u001b[0m \u001b[0mmessage\u001b[0m\u001b[0;34m)\u001b[0m\u001b[0;34m\u001b[0m\u001b[0m\n\u001b[0m\u001b[1;32m   1153\u001b[0m \u001b[0;34m\u001b[0m\u001b[0m\n\u001b[1;32m   1154\u001b[0m   \u001b[0;32mdef\u001b[0m \u001b[0m_extend_graph\u001b[0m\u001b[0;34m(\u001b[0m\u001b[0mself\u001b[0m\u001b[0;34m)\u001b[0m\u001b[0;34m:\u001b[0m\u001b[0;34m\u001b[0m\u001b[0m\n",
      "\u001b[0;31mInvalidArgumentError\u001b[0m: Shape [-1,32,32,3] has negative dimensions\n\t [[Node: input_4 = Placeholder[dtype=DT_FLOAT, shape=[?,32,32,3], _device=\"/job:localhost/replica:0/task:0/cpu:0\"]()]]\n\nCaused by op 'input_4', defined at:\n  File \"D:\\Users\\under\\Anaconda3\\envs\\tensorflow\\lib\\runpy.py\", line 193, in _run_module_as_main\n    \"__main__\", mod_spec)\n  File \"D:\\Users\\under\\Anaconda3\\envs\\tensorflow\\lib\\runpy.py\", line 85, in _run_code\n    exec(code, run_globals)\n  File \"D:\\Users\\under\\Anaconda3\\envs\\tensorflow\\lib\\site-packages\\ipykernel_launcher.py\", line 16, in <module>\n    app.launch_new_instance()\n  File \"D:\\Users\\under\\Anaconda3\\envs\\tensorflow\\lib\\site-packages\\traitlets\\config\\application.py\", line 658, in launch_instance\n    app.start()\n  File \"D:\\Users\\under\\Anaconda3\\envs\\tensorflow\\lib\\site-packages\\ipykernel\\kernelapp.py\", line 486, in start\n    self.io_loop.start()\n  File \"D:\\Users\\under\\Anaconda3\\envs\\tensorflow\\lib\\site-packages\\tornado\\platform\\asyncio.py\", line 112, in start\n    self.asyncio_loop.run_forever()\n  File \"D:\\Users\\under\\Anaconda3\\envs\\tensorflow\\lib\\asyncio\\base_events.py\", line 421, in run_forever\n    self._run_once()\n  File \"D:\\Users\\under\\Anaconda3\\envs\\tensorflow\\lib\\asyncio\\base_events.py\", line 1425, in _run_once\n    handle._run()\n  File \"D:\\Users\\under\\Anaconda3\\envs\\tensorflow\\lib\\asyncio\\events.py\", line 127, in _run\n    self._callback(*self._args)\n  File \"D:\\Users\\under\\Anaconda3\\envs\\tensorflow\\lib\\site-packages\\tornado\\platform\\asyncio.py\", line 102, in _handle_events\n    handler_func(fileobj, events)\n  File \"D:\\Users\\under\\Anaconda3\\envs\\tensorflow\\lib\\site-packages\\tornado\\stack_context.py\", line 276, in null_wrapper\n    return fn(*args, **kwargs)\n  File \"D:\\Users\\under\\Anaconda3\\envs\\tensorflow\\lib\\site-packages\\zmq\\eventloop\\zmqstream.py\", line 450, in _handle_events\n    self._handle_recv()\n  File \"D:\\Users\\under\\Anaconda3\\envs\\tensorflow\\lib\\site-packages\\zmq\\eventloop\\zmqstream.py\", line 480, in _handle_recv\n    self._run_callback(callback, msg)\n  File \"D:\\Users\\under\\Anaconda3\\envs\\tensorflow\\lib\\site-packages\\zmq\\eventloop\\zmqstream.py\", line 432, in _run_callback\n    callback(*args, **kwargs)\n  File \"D:\\Users\\under\\Anaconda3\\envs\\tensorflow\\lib\\site-packages\\tornado\\stack_context.py\", line 276, in null_wrapper\n    return fn(*args, **kwargs)\n  File \"D:\\Users\\under\\Anaconda3\\envs\\tensorflow\\lib\\site-packages\\ipykernel\\kernelbase.py\", line 283, in dispatcher\n    return self.dispatch_shell(stream, msg)\n  File \"D:\\Users\\under\\Anaconda3\\envs\\tensorflow\\lib\\site-packages\\ipykernel\\kernelbase.py\", line 233, in dispatch_shell\n    handler(stream, idents, msg)\n  File \"D:\\Users\\under\\Anaconda3\\envs\\tensorflow\\lib\\site-packages\\ipykernel\\kernelbase.py\", line 399, in execute_request\n    user_expressions, allow_stdin)\n  File \"D:\\Users\\under\\Anaconda3\\envs\\tensorflow\\lib\\site-packages\\ipykernel\\ipkernel.py\", line 208, in do_execute\n    res = shell.run_cell(code, store_history=store_history, silent=silent)\n  File \"D:\\Users\\under\\Anaconda3\\envs\\tensorflow\\lib\\site-packages\\ipykernel\\zmqshell.py\", line 537, in run_cell\n    return super(ZMQInteractiveShell, self).run_cell(*args, **kwargs)\n  File \"D:\\Users\\under\\Anaconda3\\envs\\tensorflow\\lib\\site-packages\\IPython\\core\\interactiveshell.py\", line 2705, in run_cell\n    interactivity=interactivity, compiler=compiler, result=result)\n  File \"D:\\Users\\under\\Anaconda3\\envs\\tensorflow\\lib\\site-packages\\IPython\\core\\interactiveshell.py\", line 2809, in run_ast_nodes\n    if self.run_code(code, result):\n  File \"D:\\Users\\under\\Anaconda3\\envs\\tensorflow\\lib\\site-packages\\IPython\\core\\interactiveshell.py\", line 2869, in run_code\n    exec(code_obj, self.user_global_ns, self.user_ns)\n  File \"<ipython-input-6-6db67fd8bdc1>\", line 8, in <module>\n    dtype=tf.float32\n  File \"D:\\Users\\under\\Anaconda3\\envs\\tensorflow\\lib\\site-packages\\tensorflow\\python\\ops\\array_ops.py\", line 1530, in placeholder\n    return gen_array_ops._placeholder(dtype=dtype, shape=shape, name=name)\n  File \"D:\\Users\\under\\Anaconda3\\envs\\tensorflow\\lib\\site-packages\\tensorflow\\python\\ops\\gen_array_ops.py\", line 1954, in _placeholder\n    name=name)\n  File \"D:\\Users\\under\\Anaconda3\\envs\\tensorflow\\lib\\site-packages\\tensorflow\\python\\framework\\op_def_library.py\", line 767, in apply_op\n    op_def=op_def)\n  File \"D:\\Users\\under\\Anaconda3\\envs\\tensorflow\\lib\\site-packages\\tensorflow\\python\\framework\\ops.py\", line 2506, in create_op\n    original_op=self._default_original_op, op_def=op_def)\n  File \"D:\\Users\\under\\Anaconda3\\envs\\tensorflow\\lib\\site-packages\\tensorflow\\python\\framework\\ops.py\", line 1269, in __init__\n    self._traceback = _extract_stack()\n\nInvalidArgumentError (see above for traceback): Shape [-1,32,32,3] has negative dimensions\n\t [[Node: input_4 = Placeholder[dtype=DT_FLOAT, shape=[?,32,32,3], _device=\"/job:localhost/replica:0/task:0/cpu:0\"]()]]\n"
     ],
     "output_type": "error"
    }
   ],
   "source": [
    "with tf.Session() as sess:\n",
    "    sess.run(tf.global_variables_initializer())\n",
    "    print(sess.run(biases))\n",
    "    print(sess.run(filter_weight))\n",
    "    # print(sess.run(actived_conv))\n",
    "    # print(sess.run(pool))"
   ]
  },
  {
   "cell_type": "markdown",
   "metadata": {},
   "source": [
    "#### LENET-5模型\n",
    "\n",
    "```python\n",
    "input: [width=32, height=32, color=1]\n",
    "\n",
    "conv1:\n",
    "filter: [width=5, height=5, input-dims=1, output-dims=6]\n",
    "stride: [x-stride=1, y-stride=1]\n",
    "output: [width=(32-5+1)/1=28, height=(32-5+1)/1=28, output-dims=6]\n",
    "\n",
    "pool1:\n",
    "filter: [width=2, height=2]\n",
    "stride: [x-stride=2, y-stride=2]\n",
    "output: [width=28/2=14, height=28/2=14, output-dims=6]\n",
    "\n",
    "conv2:\n",
    "filter: [width=5, height=5, input-dims=6, output-dims=16]\n",
    "stride: [x-stride=1, y-stride=1]\n",
    "output: [width=(14-5+1)/1=10, height=(14-5+1)/1=10, output-dims=16]\n",
    "\n",
    "pool2:\n",
    "filter: [width=2, height=2]\n",
    "stride: [x-stride=2, y-stride=2]\n",
    "output: [width=10/2=5, height=10/2=5, output-dims=16]\n",
    "\n",
    "full-connect1:\n",
    "w: [5*5*16=400, 120]\n",
    "output: [120]\n",
    "\n",
    "full-connect2:\n",
    "w: [120, 84]\n",
    "output: [84]\n",
    "\n",
    "full-connect3:\n",
    "w: [84, 10]\n",
    "output: [10]\n",
    "```"
   ]
  }
 ],
 "metadata": {
  "kernelspec": {
   "display_name": "Python 3",
   "language": "python",
   "name": "python3"
  },
  "language_info": {
   "codemirror_mode": {
    "name": "ipython",
    "version": 3
   },
   "file_extension": ".py",
   "mimetype": "text/x-python",
   "name": "python",
   "nbconvert_exporter": "python",
   "pygments_lexer": "ipython3",
   "version": "3.6.2"
  },
  "varInspector": {
   "cols": {
    "lenName": 16.0,
    "lenType": 16.0,
    "lenVar": 40.0
   },
   "kernels_config": {
    "python": {
     "delete_cmd_postfix": "",
     "delete_cmd_prefix": "del ",
     "library": "var_list.py",
     "varRefreshCmd": "print(var_dic_list())"
    },
    "r": {
     "delete_cmd_postfix": ") ",
     "delete_cmd_prefix": "rm(",
     "library": "var_list.r",
     "varRefreshCmd": "cat(var_dic_list()) "
    }
   },
   "types_to_exclude": [
    "module",
    "function",
    "builtin_function_or_method",
    "instance",
    "_Feature"
   ],
   "window_display": false
  }
 },
 "nbformat": 4,
 "nbformat_minor": 2
}
