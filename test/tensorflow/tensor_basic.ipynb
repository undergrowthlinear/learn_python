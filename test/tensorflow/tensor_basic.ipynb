{
 "cells": [
  {
   "cell_type": "code",
   "execution_count": 1,
   "metadata": {
    "collapsed": true
   },
   "outputs": [
    {
     "name": "stdout",
     "output_type": "stream",
     "text": [
      "5\n"
     ]
    }
   ],
   "source": [
    "import numpy as np\n",
    "# 创建数组\n",
    "x=np.array(5)\n",
    "print(x)"
   ]
  },
  {
   "cell_type": "code",
   "execution_count": 2,
   "metadata": {},
   "outputs": [
    {
     "name": "stdout",
     "output_type": "stream",
     "text": [
      "[1 2 3 4]\n1\n"
     ]
    }
   ],
   "source": [
    "x=np.array([1,2,3,4])\n",
    "print(x)\n",
    "print(x.ndim)"
   ]
  },
  {
   "cell_type": "code",
   "execution_count": 3,
   "metadata": {},
   "outputs": [
    {
     "name": "stdout",
     "output_type": "stream",
     "text": [
      "[[1 2 3 4]\n [5 6 7 8]]\n2\n"
     ]
    }
   ],
   "source": [
    "x=np.array([[1,2,3,4],[5,6,7,8]])\n",
    "print(x)\n",
    "print(x.ndim)"
   ]
  },
  {
   "cell_type": "code",
   "execution_count": 4,
   "metadata": {},
   "outputs": [
    {
     "name": "stdout",
     "output_type": "stream",
     "text": [
      "[[[  5  10  15  30  25]\n  [ 20  30  65  70  90]\n  [  7  80  95  20  30]]\n\n [[  3   0   5   0  45]\n  [ 12  -2   6   7  90]\n  [ 18  -9  95 120  30]]\n\n [[ 17  13  25  30  15]\n  [ 23  36   9   7  80]\n  [  1  -7  -5  22   3]]]\n3\n"
     ]
    }
   ],
   "source": [
    "x = np.array([[[5,10,15,30,25],\n",
    "               [20,30,65,70,90],\n",
    "               [7,80,95,20,30]],\n",
    "\n",
    "              [[3,0,5,0,45],\n",
    "               [12,-2,6,7,90],\n",
    "               [18,-9,95,120,30]],\n",
    "\n",
    "              [[17,13,25,30,15],\n",
    "               [23,36,9,7,80],\n",
    "               [1,-7,-5,22,3]]])\n",
    "\n",
    "print(x)\n",
    "print(x.ndim)"
   ]
  },
  {
   "cell_type": "code",
   "execution_count": 3,
   "metadata": {},
   "outputs": [
    {
     "name": "stdout",
     "output_type": "stream",
     "text": [
      "UNK\t -1\n天阶\t 2\n药老\t 2\n云岚宗\t 2\n乌坦城\t 1\n"
     ]
    }
   ],
   "source": [
    "import collections\n",
    "count = [['UNK', -1]]\n",
    "vocabulary_size=5\n",
    "words=['萧炎','灵魂','火焰','萧薰儿','药老','天阶',\"云岚宗\",\"乌坦城\",\"惊诧\",'药老','天阶',\"云岚宗\"]\n",
    "count.extend(collections.Counter(words).most_common(vocabulary_size - 1))\n",
    "for word, _ in count:\n",
    "    print(word+'\\t',_)"
   ]
  },
  {
   "cell_type": "code",
   "execution_count": null,
   "metadata": {},
   "outputs": [],
   "source": []
  }
 ],
 "metadata": {
  "kernelspec": {
   "display_name": "Python 2",
   "language": "python",
   "name": "python2"
  },
  "language_info": {
   "codemirror_mode": {
    "name": "ipython",
    "version": 2
   },
   "file_extension": ".py",
   "mimetype": "text/x-python",
   "name": "python",
   "nbconvert_exporter": "python",
   "pygments_lexer": "ipython2",
   "version": "2.7.6"
  }
 },
 "nbformat": 4,
 "nbformat_minor": 0
}
