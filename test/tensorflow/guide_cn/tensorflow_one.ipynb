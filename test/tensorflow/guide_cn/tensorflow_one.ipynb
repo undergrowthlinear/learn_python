{
 "cells": [
  {
   "cell_type": "code",
   "execution_count": 10,
   "metadata": {
    "collapsed": false
   },
   "outputs": [
    {
     "name": "stdout",
     "output_type": "stream",
     "text": [
      "setp 0 sess.run(w) [[-0.13741232  0.27226582]] sess.run(b) [0.22356923] loss 0.017930299043655396\nsetp 50 sess.run(w) [[0.09163536 0.19798139]] sess.run(b) [0.03520646] loss 6.461095836129971e-06\nsetp 100 sess.run(w) [[0.09970658 0.19987345]] sess.run(b) [0.03020992] loss 9.207254514365104e-09\nsetp 150 sess.run(w) [[0.09998903 0.1999944 ]] sess.run(b) [0.03000828] loss 1.3839002860338567e-11\nsetp 200 sess.run(w) [[0.09999958 0.19999976]] sess.run(b) [0.03000033] loss 2.1070506992827698e-14\n"
     ]
    }
   ],
   "source": [
    "import numpy as np\n",
    "import tensorflow as tf\n",
    "\n",
    "# 训练集\n",
    "x_data = np.float32(np.random.rand(2, 100))\n",
    "y_data = np.dot([0.1, 0.2],x_data) + 0.03\n",
    "\n",
    "#算法定义\n",
    "b = tf.Variable(tf.zeros([1]))\n",
    "w = tf.Variable(tf.random_uniform([1, 2], -1.0, 1.0))\n",
    "y = tf.matmul(w,x_data) + b\n",
    "#训练 方差\n",
    "loss = tf.reduce_mean(tf.square(y - y_data))\n",
    "# 优化器\n",
    "optimizer = tf.train.GradientDescentOptimizer(0.5)\n",
    "train = optimizer.minimize(loss)\n",
    "\n",
    "init = tf.initialize_all_variables()\n",
    "\n",
    "sess = tf.Session()\n",
    "sess.run(init)\n",
    "\n",
    "# \n",
    "for setp in range(0, 201):\n",
    "    result = sess.run(train)\n",
    "    if setp % 50 == 0:\n",
    "        print('setp {}'.format(setp), 'sess.run(w) {}'.format(sess.run(w)),\n",
    "              'sess.run(b) {}'.format(sess.run(b)), 'loss {}'.format(sess.run(loss)))\n"
   ]
  },
  {
   "cell_type": "code",
   "execution_count": 7,
   "metadata": {},
   "outputs": [
    {
     "name": "stdout",
     "output_type": "stream",
     "text": [
      "0 [[0.1793777  0.20893627]] [0.5032313]\n20 [[0.09231126 0.18016288]] [0.31368956]\n40 [[0.09633683 0.19398892]] [0.30484435]\n60 [[0.09854015 0.19806287]] [0.301707]\n80 [[0.09945625 0.1993515 ]] [0.3006002]\n100 [[0.09980353 0.19977812]] [0.3002108]\n120 [[0.09993003 0.19992317]] [0.300074]\n140 [[0.09997527 0.19997324]] [0.30002597]\n160 [[0.0999913  0.19999066]] [0.3000091]\n180 [[0.09999695 0.19999674]] [0.3000032]\n200 [[0.09999892 0.19999883]] [0.30000114]\n"
     ]
    }
   ],
   "source": [
    "import tensorflow as tf\n",
    "import numpy as np\n",
    "\n",
    "# 使用 NumPy 生成假数据(phony data), 总共 100 个点.\n",
    "x_data = np.float32(np.random.rand(2, 100)) # 随机输入\n",
    "y_data = np.dot([0.100, 0.200], x_data) + 0.300\n",
    "\n",
    "# 构造一个线性模型\n",
    "# \n",
    "b = tf.Variable(tf.zeros([1]))\n",
    "W = tf.Variable(tf.random_uniform([1, 2], -1.0, 1.0))\n",
    "y = tf.matmul(W, x_data) + b\n",
    "\n",
    "# 最小化方差\n",
    "loss = tf.reduce_mean(tf.square(y - y_data))\n",
    "optimizer = tf.train.GradientDescentOptimizer(0.5)\n",
    "train = optimizer.minimize(loss)\n",
    "\n",
    "# 初始化变量\n",
    "init = tf.initialize_all_variables()\n",
    "\n",
    "# 启动图 (graph)\n",
    "sess = tf.Session()\n",
    "sess.run(init)\n",
    "\n",
    "# 拟合平面\n",
    "for step in range(0, 201):\n",
    "    sess.run(train)\n",
    "    if step % 20 == 0:\n",
    "        print(step, sess.run(W), sess.run(b))"
   ]
  },
  {
   "cell_type": "code",
   "execution_count": null,
   "metadata": {},
   "outputs": [],
   "source": []
  }
 ],
 "metadata": {
  "kernelspec": {
   "display_name": "Python 2",
   "language": "python",
   "name": "python2"
  },
  "language_info": {
   "codemirror_mode": {
    "name": "ipython",
    "version": 2
   },
   "file_extension": ".py",
   "mimetype": "text/x-python",
   "name": "python",
   "nbconvert_exporter": "python",
   "pygments_lexer": "ipython2",
   "version": "2.7.6"
  }
 },
 "nbformat": 4,
 "nbformat_minor": 0
}
