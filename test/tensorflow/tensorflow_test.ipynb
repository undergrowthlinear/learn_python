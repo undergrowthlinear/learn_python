{
 "cells": [
  {
   "cell_type": "code",
   "execution_count": 3,
   "metadata": {
    "collapsed": true
   },
   "outputs": [
    {
     "name": "stdout",
     "output_type": "stream",
     "text": [
      "b'Hello, TensorFlow!'\n1.6.0\n"
     ]
    }
   ],
   "source": [
    "import tensorflow as tf\n",
    "hello = tf.constant('Hello, TensorFlow!')\n",
    "sess = tf.Session()\n",
    "print(sess.run(hello))\n",
    "\n",
    "print(tf.__version__)"
   ]
  },
  {
   "cell_type": "code",
   "execution_count": 4,
   "metadata": {},
   "outputs": [],
   "source": [
    "def estimate_house_sales_price(num_of_bedrooms, sqft, neighborhood):\n",
    "    price = 0\n",
    "\n",
    "    # 加少量配方1\n",
    "    price += num_of_bedrooms * 0.123\n",
    "\n",
    "    # 加大把配方2\n",
    "    price += sqft * 0.41\n",
    "\n",
    "    # 适量的配方3\n",
    "    price += neighborhood * 0.57\n",
    "\n",
    "    return price"
   ]
  },
  {
   "cell_type": "code",
   "execution_count": null,
   "metadata": {},
   "outputs": [
    {
     "name": "stdout",
     "output_type": "stream",
     "text": [
      "822.0790000000001\n"
     ]
    }
   ],
   "source": [
    "print(estimate_house_sales_price(3,2000,3))"
   ]
  },
  {
   "cell_type": "code",
   "execution_count": 5,
   "metadata": {
    "collapsed": true
   },
   "outputs": [
    {
     "name": "stdout",
     "output_type": "stream",
     "text": [
      "INFO:tensorflow:Using default config.\n"
     ]
    },
    {
     "name": "stdout",
     "output_type": "stream",
     "text": [
      "WARNING:tensorflow:Using temporary folder as model directory: C:\\Users\\ADMINI~1\\AppData\\Local\\Temp\\tmp7idaedc5\n"
     ]
    },
    {
     "name": "stdout",
     "output_type": "stream",
     "text": [
      "INFO:tensorflow:Using config: {'_save_checkpoints_steps': None, '_keep_checkpoint_max': 5, '_service': None, '_save_checkpoints_secs': 600, '_cluster_spec': <tensorflow.python.training.server_lib.ClusterSpec object at 0x000000000C4B99E8>, '_save_summary_steps': 100, '_evaluation_master': '', '_model_dir': 'C:\\\\Users\\\\ADMINI~1\\\\AppData\\\\Local\\\\Temp\\\\tmp7idaedc5', '_session_config': None, '_task_id': 0, '_global_id_in_cluster': 0, '_is_chief': True, '_task_type': 'worker', '_num_worker_replicas': 1, '_log_step_count_steps': 100, '_tf_random_seed': None, '_keep_checkpoint_every_n_hours': 10000, '_master': '', '_num_ps_replicas': 0}\n"
     ]
    },
    {
     "ename": "NameError",
     "evalue": "name 'train_input_fn' is not defined",
     "traceback": [
      "\u001b[0;31m---------------------------------------------------------------------------\u001b[0m",
      "\u001b[0;31mNameError\u001b[0m                                 Traceback (most recent call last)",
      "\u001b[0;32m<ipython-input-5-21b980d2f483>\u001b[0m in \u001b[0;36m<module>\u001b[0;34m()\u001b[0m\n\u001b[1;32m      5\u001b[0m \u001b[0;34m\u001b[0m\u001b[0m\n\u001b[1;32m      6\u001b[0m \u001b[0;31m# Train the model on some example data.\u001b[0m\u001b[0;34m\u001b[0m\u001b[0;34m\u001b[0m\u001b[0m\n\u001b[0;32m----> 7\u001b[0;31m \u001b[0mclassifier\u001b[0m\u001b[0;34m.\u001b[0m\u001b[0mtrain\u001b[0m\u001b[0;34m(\u001b[0m\u001b[0minput_fn\u001b[0m\u001b[0;34m=\u001b[0m\u001b[0mtrain_input_fn\u001b[0m\u001b[0;34m,\u001b[0m \u001b[0msteps\u001b[0m\u001b[0;34m=\u001b[0m\u001b[0;36m2000\u001b[0m\u001b[0;34m)\u001b[0m\u001b[0;34m\u001b[0m\u001b[0m\n\u001b[0m\u001b[1;32m      8\u001b[0m \u001b[0;34m\u001b[0m\u001b[0m\n\u001b[1;32m      9\u001b[0m \u001b[0;31m# Use it to predict.\u001b[0m\u001b[0;34m\u001b[0m\u001b[0;34m\u001b[0m\u001b[0m\n",
      "\u001b[0;31mNameError\u001b[0m: name 'train_input_fn' is not defined"
     ],
     "output_type": "error"
    }
   ],
   "source": [
    "import tensorflow as tf\n",
    "feature_columns = [tf.contrib.layers.real_valued_column(\"\", dimension=1)]\n",
    "# Set up a linear classifier.\n",
    "classifier = tf.estimator.LinearClassifier(feature_columns=feature_columns)\n",
    "\n",
    "# Train the model on some example data.\n",
    "classifier.train(input_fn=train_input_fn, steps=2000)\n",
    "\n",
    "# Use it to predict.\n",
    "predictions = classifier.predict(input_fn=predict_input_fn)"
   ]
  },
  {
   "cell_type": "code",
   "execution_count": 6,
   "metadata": {
    "collapsed": true
   },
   "outputs": [
    {
     "name": "stdout",
     "output_type": "stream",
     "text": [
      "INFO:tensorflow:Using default config.\n"
     ]
    },
    {
     "name": "stdout",
     "output_type": "stream",
     "text": [
      "WARNING:tensorflow:Using temporary folder as model directory: C:\\Users\\ADMINI~1\\AppData\\Local\\Temp\\tmp56ts3i_0\n"
     ]
    },
    {
     "name": "stdout",
     "output_type": "stream",
     "text": [
      "INFO:tensorflow:Using config: {'_save_checkpoints_steps': None, '_keep_checkpoint_max': 5, '_service': None, '_save_checkpoints_secs': 600, '_cluster_spec': <tensorflow.python.training.server_lib.ClusterSpec object at 0x000000000C539F60>, '_save_summary_steps': 100, '_evaluation_master': '', '_model_dir': 'C:\\\\Users\\\\ADMINI~1\\\\AppData\\\\Local\\\\Temp\\\\tmp56ts3i_0', '_session_config': None, '_task_id': 0, '_global_id_in_cluster': 0, '_is_chief': True, '_task_type': 'worker', '_num_worker_replicas': 1, '_log_step_count_steps': 100, '_tf_random_seed': None, '_keep_checkpoint_every_n_hours': 10000, '_master': '', '_num_ps_replicas': 0}\n"
     ]
    },
    {
     "name": "stdout",
     "output_type": "stream",
     "text": [
      "INFO:tensorflow:Calling model_fn.\n"
     ]
    },
    {
     "name": "stdout",
     "output_type": "stream",
     "text": [
      "INFO:tensorflow:Done calling model_fn.\n"
     ]
    },
    {
     "name": "stdout",
     "output_type": "stream",
     "text": [
      "INFO:tensorflow:Create CheckpointSaverHook.\n"
     ]
    },
    {
     "name": "stdout",
     "output_type": "stream",
     "text": [
      "INFO:tensorflow:Graph was finalized.\n"
     ]
    },
    {
     "name": "stdout",
     "output_type": "stream",
     "text": [
      "INFO:tensorflow:Running local_init_op.\n"
     ]
    },
    {
     "name": "stdout",
     "output_type": "stream",
     "text": [
      "INFO:tensorflow:Done running local_init_op.\n"
     ]
    },
    {
     "name": "stdout",
     "output_type": "stream",
     "text": [
      "INFO:tensorflow:Saving checkpoints for 1 into C:\\Users\\ADMINI~1\\AppData\\Local\\Temp\\tmp56ts3i_0\\model.ckpt.\n"
     ]
    },
    {
     "name": "stdout",
     "output_type": "stream",
     "text": [
      "INFO:tensorflow:loss = 3.0, step = 1\n"
     ]
    },
    {
     "name": "stdout",
     "output_type": "stream",
     "text": [
      "INFO:tensorflow:global_step/sec: 1068.38\n"
     ]
    },
    {
     "name": "stdout",
     "output_type": "stream",
     "text": [
      "INFO:tensorflow:loss = 0.20474115, step = 101 (0.078 sec)\n"
     ]
    },
    {
     "name": "stdout",
     "output_type": "stream",
     "text": [
      "INFO:tensorflow:global_step/sec: 1068.38\n"
     ]
    },
    {
     "name": "stdout",
     "output_type": "stream",
     "text": [
      "INFO:tensorflow:loss = 0.0222008, step = 201 (0.094 sec)\n"
     ]
    },
    {
     "name": "stdout",
     "output_type": "stream",
     "text": [
      "INFO:tensorflow:global_step/sec: 1282.05\n"
     ]
    },
    {
     "name": "stdout",
     "output_type": "stream",
     "text": [
      "INFO:tensorflow:loss = 0.011723988, step = 301 (0.078 sec)\n"
     ]
    },
    {
     "name": "stdout",
     "output_type": "stream",
     "text": [
      "INFO:tensorflow:global_step/sec: 801.281\n"
     ]
    },
    {
     "name": "stdout",
     "output_type": "stream",
     "text": [
      "INFO:tensorflow:loss = 0.00079590833, step = 401 (0.125 sec)\n"
     ]
    },
    {
     "name": "stdout",
     "output_type": "stream",
     "text": [
      "INFO:tensorflow:global_step/sec: 1068.38\n"
     ]
    },
    {
     "name": "stdout",
     "output_type": "stream",
     "text": [
      "INFO:tensorflow:loss = 0.00032431333, step = 501 (0.094 sec)\n"
     ]
    },
    {
     "name": "stdout",
     "output_type": "stream",
     "text": [
      "INFO:tensorflow:global_step/sec: 1282.05\n"
     ]
    },
    {
     "name": "stdout",
     "output_type": "stream",
     "text": [
      "INFO:tensorflow:loss = 5.137001e-05, step = 601 (0.078 sec)\n"
     ]
    },
    {
     "name": "stdout",
     "output_type": "stream",
     "text": [
      "INFO:tensorflow:global_step/sec: 1282.05\n"
     ]
    },
    {
     "name": "stdout",
     "output_type": "stream",
     "text": [
      "INFO:tensorflow:loss = 3.7776335e-06, step = 701 (0.078 sec)\n"
     ]
    },
    {
     "name": "stdout",
     "output_type": "stream",
     "text": [
      "INFO:tensorflow:global_step/sec: 1282.05\n"
     ]
    },
    {
     "name": "stdout",
     "output_type": "stream",
     "text": [
      "INFO:tensorflow:loss = 2.3318853e-06, step = 801 (0.078 sec)\n"
     ]
    },
    {
     "name": "stdout",
     "output_type": "stream",
     "text": [
      "INFO:tensorflow:global_step/sec: 1057.08\n"
     ]
    },
    {
     "name": "stdout",
     "output_type": "stream",
     "text": [
      "INFO:tensorflow:loss = 6.34922e-07, step = 901 (0.096 sec)\n"
     ]
    },
    {
     "name": "stdout",
     "output_type": "stream",
     "text": [
      "INFO:tensorflow:Saving checkpoints for 1000 into C:\\Users\\ADMINI~1\\AppData\\Local\\Temp\\tmp56ts3i_0\\model.ckpt.\n"
     ]
    },
    {
     "name": "stdout",
     "output_type": "stream",
     "text": [
      "INFO:tensorflow:Loss for final step: 9.721404e-08.\n"
     ]
    },
    {
     "name": "stdout",
     "output_type": "stream",
     "text": [
      "INFO:tensorflow:Calling model_fn.\n"
     ]
    },
    {
     "name": "stdout",
     "output_type": "stream",
     "text": [
      "INFO:tensorflow:Done calling model_fn.\n"
     ]
    },
    {
     "name": "stdout",
     "output_type": "stream",
     "text": [
      "INFO:tensorflow:Starting evaluation at 2018-03-27-01:44:42\n"
     ]
    },
    {
     "name": "stdout",
     "output_type": "stream",
     "text": [
      "INFO:tensorflow:Graph was finalized."
     ]
    },
    {
     "name": "stdout",
     "output_type": "stream",
     "text": [
      "\n"
     ]
    },
    {
     "name": "stdout",
     "output_type": "stream",
     "text": [
      "INFO:tensorflow:Restoring parameters from C:\\Users\\ADMINI~1\\AppData\\Local\\Temp\\tmp56ts3i_0\\model.ckpt-1000\n"
     ]
    },
    {
     "name": "stdout",
     "output_type": "stream",
     "text": [
      "INFO:tensorflow:Running local_init_op.\n"
     ]
    },
    {
     "name": "stdout",
     "output_type": "stream",
     "text": [
      "INFO:tensorflow:Done running local_init_op.\n"
     ]
    },
    {
     "name": "stdout",
     "output_type": "stream",
     "text": [
      "INFO:tensorflow:Finished evaluation at 2018-03-27-01:44:43\n"
     ]
    },
    {
     "name": "stdout",
     "output_type": "stream",
     "text": [
      "INFO:tensorflow:Saving dict for global step 1000: average_loss = 1.9100519e-08, global_step = 1000, loss = 7.6402074e-08\n"
     ]
    },
    {
     "name": "stdout",
     "output_type": "stream",
     "text": [
      "INFO:tensorflow:Calling model_fn.\n"
     ]
    },
    {
     "name": "stdout",
     "output_type": "stream",
     "text": [
      "INFO:tensorflow:Done calling model_fn.\n"
     ]
    },
    {
     "name": "stdout",
     "output_type": "stream",
     "text": [
      "INFO:tensorflow:Starting evaluation at 2018-03-27-01:44:43\n"
     ]
    },
    {
     "name": "stdout",
     "output_type": "stream",
     "text": [
      "INFO:tensorflow:Graph was finalized.\n"
     ]
    },
    {
     "name": "stdout",
     "output_type": "stream",
     "text": [
      "INFO:tensorflow:Restoring parameters from C:\\Users\\ADMINI~1\\AppData\\Local\\Temp\\tmp56ts3i_0\\model.ckpt-1000\n"
     ]
    },
    {
     "name": "stdout",
     "output_type": "stream",
     "text": [
      "INFO:tensorflow:Running local_init_op.\n"
     ]
    },
    {
     "name": "stdout",
     "output_type": "stream",
     "text": [
      "INFO:tensorflow:Done running local_init_op.\n"
     ]
    },
    {
     "name": "stdout",
     "output_type": "stream",
     "text": [
      "INFO:tensorflow:Finished evaluation at 2018-03-27-01:44:43\n"
     ]
    },
    {
     "name": "stdout",
     "output_type": "stream",
     "text": [
      "INFO:tensorflow:Saving dict for global step 1000: average_loss = 0.0025351061, global_step = 1000, loss = 0.010140425\n"
     ]
    },
    {
     "name": "stdout",
     "output_type": "stream",
     "text": [
      "train metrics: {'average_loss': 1.9100519e-08, 'loss': 7.6402074e-08, 'global_step': 1000}\n"
     ]
    }
   ],
   "source": [
    "import tensorflow as tf\n",
    "# NumPy is often used to load, manipulate and preprocess data.\n",
    "import numpy as np\n",
    "\n",
    "# Declare list of features. We only have one numeric feature. There are many\n",
    "# other types of columns that are more complicated and useful.\n",
    "feature_columns = [tf.feature_column.numeric_column(\"x\", shape=[1])]\n",
    "\n",
    "# An estimator is the front end to invoke training (fitting) and evaluation\n",
    "# (inference). There are many predefined types like linear regression,\n",
    "# linear classification, and many neural network classifiers and regressors.\n",
    "# The following code provides an estimator that does linear regression.\n",
    "estimator = tf.estimator.LinearRegressor(feature_columns=feature_columns)\n",
    "\n",
    "# TensorFlow provides many helper methods to read and set up data sets.\n",
    "# Here we use two data sets: one for training and one for evaluation\n",
    "# We have to tell the function how many batches\n",
    "# of data (num_epochs) we want and how big each batch should be.\n",
    "x_train = np.array([1., 2., 3., 4.])\n",
    "y_train = np.array([0., -1., -2., -3.])\n",
    "x_eval = np.array([2., 5., 8., 1.])\n",
    "y_eval = np.array([-1.01, -4.1, -7, 0.])\n",
    "input_fn = tf.estimator.inputs.numpy_input_fn(\n",
    "    {\"x\": x_train}, y_train, batch_size=4, num_epochs=None, shuffle=True)\n",
    "train_input_fn = tf.estimator.inputs.numpy_input_fn(\n",
    "    {\"x\": x_train}, y_train, batch_size=4, num_epochs=1000, shuffle=False)\n",
    "eval_input_fn = tf.estimator.inputs.numpy_input_fn(\n",
    "    {\"x\": x_eval}, y_eval, batch_size=4, num_epochs=1000, shuffle=False)\n",
    "\n",
    "# We can invoke 1000 training steps by invoking the  method and passing the\n",
    "# training data set.\n",
    "estimator.train(input_fn=input_fn, steps=1000)\n",
    "\n",
    "# Here we evaluate how well our model did.\n",
    "train_metrics = estimator.evaluate(input_fn=train_input_fn)\n",
    "eval_metrics = estimator.evaluate(input_fn=eval_input_fn)\n",
    "print(\"train metrics: %r\"% train_metrics)"
   ]
  },
  {
   "cell_type": "code",
   "execution_count": 2,
   "metadata": {},
   "outputs": [
    {
     "name": "stdout",
     "output_type": "stream",
     "text": [
      "17\n"
     ]
    }
   ],
   "source": [
    "# 张量(####标量(零阶张量) 矢量(一阶张量) 矩阵(二阶张量)####) 指令 图\n",
    "import tensorflow as tf\n",
    "# create graph\n",
    "g=tf.Graph()\n",
    "# 设置为默认图\n",
    "with g.as_default():\n",
    "    # 创建常量\n",
    "    x=tf.constant(8,name='x_const')\n",
    "    y=tf.constant(5,name='y_const')\n",
    "    z=tf.constant(4,name='z_const')\n",
    "    sum=tf.add(x,y,name='x_y_sum')\n",
    "    sum=tf.add(z,sum,name='x_y_z_sum')\n",
    "    # 创建session\n",
    "    with tf.Session() as sess:\n",
    "        print(sum.eval())"
   ]
  },
  {
   "cell_type": "code",
   "execution_count": 5,
   "metadata": {},
   "outputs": [
    {
     "name": "stdout",
     "output_type": "stream",
     "text": [
      "b'Hello, world!'\n"
     ]
    }
   ],
   "source": [
    "import tensorflow as tf\n",
    "c = tf.constant('Hello, world!')\n",
    "with tf.Session() as sess:\n",
    "    print(sess.run(c))"
   ]
  },
  {
   "cell_type": "code",
   "execution_count": 7,
   "metadata": {},
   "outputs": [
    {
     "name": "stdout",
     "output_type": "stream",
     "text": [
      "[ 3  4  6  8 10 12]\n"
     ]
    }
   ],
   "source": [
    "import tensorflow as tf\n",
    "with tf.Graph().as_default():\n",
    "    primes=tf.constant([2,3,5,7,9,11],dtype=tf.int32)\n",
    "    ones=tf.ones([6],dtype=tf.int32)\n",
    "    # 矢量相加\n",
    "    beyond_primes=tf.add(primes,ones)\n",
    "    # 创建Session 运行默认图\n",
    "    with tf.Session() as sess:\n",
    "        print(beyond_primes.eval())"
   ]
  },
  {
   "cell_type": "code",
   "execution_count": 8,
   "metadata": {},
   "outputs": [
    {
     "name": "stdout",
     "output_type": "stream",
     "text": [
      "scalar has shape () and value:\n 0.0\nvector has shape (3,) and value:\n [0. 0. 0.]\nmatrix has shape (2, 3) and value:\n [[0. 0. 0.]\n [0. 0. 0.]]\n"
     ]
    }
   ],
   "source": [
    "import tensorflow as tf\n",
    "with tf.Graph().as_default():\n",
    "    # A scalar (0-D tensor).\n",
    "    scalar = tf.zeros([])\n",
    "    # A vector with 3 elements.\n",
    "    vector = tf.zeros([3])\n",
    "    # A matrix with 2 rows and 3 columns.\n",
    "    matrix = tf.zeros([2, 3])\n",
    "    with tf.Session() as sess:\n",
    "        print('scalar has shape', scalar.get_shape(), 'and value:\\n', scalar.eval())\n",
    "        print('vector has shape', vector.get_shape(), 'and value:\\n', vector.eval())\n",
    "        print('matrix has shape', matrix.get_shape(), 'and value:\\n', matrix.eval())"
   ]
  },
  {
   "cell_type": "code",
   "execution_count": 9,
   "metadata": {},
   "outputs": [
    {
     "name": "stdout",
     "output_type": "stream",
     "text": [
      "[ 3  4  6  8 12 14]\n"
     ]
    }
   ],
   "source": [
    "with tf.Graph().as_default():\n",
    "    # Create a six-element vector (1-D tensor).\n",
    "    primes = tf.constant([2, 3, 5, 7, 11, 13], dtype=tf.int32)\n",
    "    # Create a constant scalar with value 1.\n",
    "    ones = tf.constant(1, dtype=tf.int32)\n",
    "    # Add the two tensors. The resulting tensor is a six-element vector.\n",
    "    just_beyond_primes = tf.add(primes, ones)\n",
    "\n",
    "    with tf.Session() as sess:\n",
    "        print(just_beyond_primes.eval())"
   ]
  },
  {
   "cell_type": "code",
   "execution_count": 10,
   "metadata": {},
   "outputs": [
    {
     "name": "stdout",
     "output_type": "stream",
     "text": [
      "[[35 58]\n [35 33]\n [ 1 -4]]\n"
     ]
    }
   ],
   "source": [
    "import tensorflow as tf\n",
    "with tf.Graph().as_default():\n",
    "    # Create a matrix (2-d tensor) with 3 rows and 4 columns.\n",
    "    x = tf.constant([[5, 2, 4, 3], [5, 1, 6, -2], [-1, 3, -1, -2]],\n",
    "                    dtype=tf.int32)\n",
    "    # Create a matrix with 4 rows and 2 columns.\n",
    "    y = tf.constant([[2, 2], [3, 5], [4, 5], [1, 6]], dtype=tf.int32)\n",
    "    # Multiply `x` by `y`. \n",
    "    # The resulting matrix will have 3 rows and 2 columns.\n",
    "    matrix_multiply_result = tf.matmul(x, y)\n",
    "    with tf.Session() as sess:\n",
    "        print(matrix_multiply_result.eval())"
   ]
  },
  {
   "cell_type": "code",
   "execution_count": 11,
   "metadata": {},
   "outputs": [
    {
     "name": "stdout",
     "output_type": "stream",
     "text": [
      "Original matrix (8x2):\n[[ 1  2]\n [ 3  4]\n [ 5  6]\n [ 7  8]\n [ 9 10]\n [11 12]\n [13 14]\n [15 16]]\nReshaped matrix (2x8):\n[[ 1  2  3  4  5  6  7  8]\n [ 9 10 11 12 13 14 15 16]]\nReshaped matrix (4x4):\n[[ 1  2  3  4]\n [ 5  6  7  8]\n [ 9 10 11 12]\n [13 14 15 16]]\n"
     ]
    }
   ],
   "source": [
    "with tf.Graph().as_default():\n",
    "    # Create an 8x2 matrix (2-D tensor).\n",
    "    matrix = tf.constant([[1,2], [3,4], [5,6], [7,8],\n",
    "                          [9,10], [11,12], [13, 14], [15,16]], dtype=tf.int32)\n",
    "    # Reshape the 8x2 matrix into a 2x8 matrix.\n",
    "    reshaped_2x8_matrix = tf.reshape(matrix, [2,8])\n",
    "    # Reshape the 8x2 matrix into a 4x4 matrix\n",
    "    reshaped_4x4_matrix = tf.reshape(matrix, [4,4])\n",
    "    with tf.Session() as sess:\n",
    "        print(\"Original matrix (8x2):\")\n",
    "        print(matrix.eval())\n",
    "        print(\"Reshaped matrix (2x8):\")\n",
    "        print(reshaped_2x8_matrix.eval())\n",
    "        print(\"Reshaped matrix (4x4):\")\n",
    "        print(reshaped_4x4_matrix.eval())"
   ]
  },
  {
   "cell_type": "code",
   "execution_count": 12,
   "metadata": {},
   "outputs": [
    {
     "name": "stdout",
     "output_type": "stream",
     "text": [
      "Original matrix (8x2):\n[[ 1  2]\n [ 3  4]\n [ 5  6]\n [ 7  8]\n [ 9 10]\n [11 12]\n [13 14]\n [15 16]]\nReshaped 3-D tensor (2x2x4):\n[[[ 1  2  3  4]\n  [ 5  6  7  8]]\n\n [[ 9 10 11 12]\n  [13 14 15 16]]]\n1-D vector:\n[ 1  2  3  4  5  6  7  8  9 10 11 12 13 14 15 16]\n"
     ]
    }
   ],
   "source": [
    "with tf.Graph().as_default():\n",
    "    # Create an 8x2 matrix (2-D tensor).\n",
    "    matrix = tf.constant([[1,2], [3,4], [5,6], [7,8],\n",
    "                          [9,10], [11,12], [13, 14], [15,16]], dtype=tf.int32)\n",
    "    # Reshape the 8x2 matrix into a 3-D 2x2x4 tensor.\n",
    "    reshaped_2x2x4_tensor = tf.reshape(matrix, [2,2,4])\n",
    "    # Reshape the 8x2 matrix into a 1-D 16-element tensor.\n",
    "    one_dimensional_vector = tf.reshape(matrix, [16])\n",
    "    with tf.Session() as sess:\n",
    "        print(\"Original matrix (8x2):\")\n",
    "        print(matrix.eval())\n",
    "        print(\"Reshaped 3-D tensor (2x2x4):\")\n",
    "        print(reshaped_2x2x4_tensor.eval())\n",
    "        print(\"1-D vector:\")\n",
    "        print(one_dimensional_vector.eval())"
   ]
  },
  {
   "cell_type": "code",
   "execution_count": 15,
   "metadata": {},
   "outputs": [
    {
     "name": "stdout",
     "output_type": "stream",
     "text": [
      "[[44]\n [46]]\n"
     ]
    }
   ],
   "source": [
    "import tensorflow as tf\n",
    "with tf.Graph().as_default():\n",
    "    a = tf.constant([5, 3, 2, 7, 1, 4])\n",
    "    b = tf.constant([4, 6, 3])\n",
    "    c=tf.reshape(a,[2,3])\n",
    "    d=tf.reshape(b,[3,1])\n",
    "    matrix_multiply_result = tf.matmul(c, d)\n",
    "    with tf.Session() as sess:\n",
    "        print(matrix_multiply_result.eval())"
   ]
  },
  {
   "cell_type": "code",
   "execution_count": 16,
   "metadata": {},
   "outputs": [],
   "source": [
    "import tensorflow as tf\n",
    "with tf.Graph().as_default():\n",
    "    a=tf.Variable([3])\n",
    "    v=tf.Variable(tf.random_normal([1],mean=1.0,stddev=0.32))"
   ]
  },
  {
   "cell_type": "code",
   "execution_count": 18,
   "metadata": {},
   "outputs": [
    {
     "name": "stdout",
     "output_type": "stream",
     "text": [
      "[3]\n[3]\n[7]\n"
     ]
    }
   ],
   "source": [
    "import tensorflow as tf\n",
    "with g.as_default():\n",
    "    v = tf.Variable([3])\n",
    "    with tf.Session() as sess:\n",
    "        sess.run(tf.global_variables_initializer())\n",
    "        # This should print the variable's initial value.\n",
    "        print(v.eval())\n",
    "        assignment = tf.assign(v, [7])\n",
    "        # The variable has not been changed yet!\n",
    "        print(v.eval())\n",
    "        # Execute the assignment op.\n",
    "        sess.run(assignment)\n",
    "        # Now the variable is updated.\n",
    "        print(v.eval())"
   ]
  },
  {
   "cell_type": "code",
   "execution_count": 19,
   "metadata": {},
   "outputs": [
    {
     "name": "stdout",
     "output_type": "stream",
     "text": [
      "[[ 4  1  5]\n [ 2  1  3]\n [ 5  6 11]\n [ 6  4 10]\n [ 6  5 11]\n [ 1  4  5]\n [ 4  6 10]\n [ 5  2  7]\n [ 1  5  6]\n [ 5  3  8]]\n"
     ]
    }
   ],
   "source": [
    "import tensorflow as tf\n",
    "with tf.Graph().as_default(), tf.Session() as sess:\n",
    "    # Task 2: Simulate 10 throws of two dice. Store the results\n",
    "    # in a 10x3 matrix.\n",
    "\n",
    "    # We're going to place dice throws inside two separate\n",
    "    # 10x1 matrices. We could have placed dice throws inside\n",
    "    # a single 10x2 matrix, but adding different columns of\n",
    "    # the same matrix is tricky. We also could have placed\n",
    "    # dice throws inside two 1-D tensors (vectors); doing so\n",
    "    # would require transposing the result.\n",
    "    dice1 = tf.Variable(tf.random_uniform([10, 1],\n",
    "                                          minval=1, maxval=7,\n",
    "                                          dtype=tf.int32))\n",
    "    dice2 = tf.Variable(tf.random_uniform([10, 1],\n",
    "                                          minval=1, maxval=7,\n",
    "                                          dtype=tf.int32))\n",
    "    # We may add dice1 and dice2 since they share the same shape\n",
    "    # and size.\n",
    "    dice_sum = tf.add(dice1, dice2)\n",
    "    # We've got three separate 10x1 matrices. To produce a single\n",
    "    # 10x3 matrix, we'll concatenate them along dimension 1.\n",
    "    resulting_matrix = tf.concat(\n",
    "        values=[dice1, dice2, dice_sum], axis=1)\n",
    "    # The variables haven't been initialized within the graph yet,\n",
    "    # so let's remedy that.\n",
    "    sess.run(tf.global_variables_initializer())\n",
    "    print(resulting_matrix.eval())"
   ]
  },
  {
   "cell_type": "code",
   "execution_count": null,
   "metadata": {},
   "outputs": [],
   "source": []
  }
 ],
 "metadata": {
  "kernelspec": {
   "display_name": "Python 2",
   "language": "python",
   "name": "python2"
  },
  "language_info": {
   "codemirror_mode": {
    "name": "ipython",
    "version": 2
   },
   "file_extension": ".py",
   "mimetype": "text/x-python",
   "name": "python",
   "nbconvert_exporter": "python",
   "pygments_lexer": "ipython2",
   "version": "2.7.6"
  }
 },
 "nbformat": 4,
 "nbformat_minor": 0
}
