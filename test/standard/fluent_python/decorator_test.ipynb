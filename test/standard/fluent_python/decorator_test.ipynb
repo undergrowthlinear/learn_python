{
 "cells": [
  {
   "cell_type": "code",
   "execution_count": 3,
   "metadata": {
    "collapsed": true
   },
   "outputs": [
    {
     "name": "stdout",
     "output_type": "stream",
     "text": [
      "cal 10 + 20\n30\n30\ncal 20 + 20\n40\n"
     ]
    }
   ],
   "source": [
    "from functools import lru_cache\n",
    "\n",
    "\n",
    "@lru_cache(None)\n",
    "def add(x, y):\n",
    "    print(\"cal %s + %s\" % (x, y))\n",
    "    return x + y\n",
    "\n",
    "\n",
    "print(add(10, 20))\n",
    "print(add(10, 20))\n",
    "print(add(20, 20))\n"
   ]
  },
  {
   "cell_type": "code",
   "execution_count": 13,
   "metadata": {
    "collapsed": true
   },
   "outputs": [
    {
     "name": "stdout",
     "output_type": "stream",
     "text": [
      "fac time use 3.2078969525173306e-07\nfac time use 3.817424294538796e-05\nfac time use 5.1005925342906266e-05\nfac time use 6.191284774104133e-05\nfac time use 7.217819802463055e-05\nfac time use 8.21227440610528e-05\nfac time use 9.238809434464201e-05\nfac time use 0.00010233264038106427\nfac time use 0.00011259797611273825\nfac time use 0.0001231841160915792\n3628800\nfac1 time use 9.623763617128134e-07\nfac1 time use 1.53980145114474e-05\nfac1 time use 2.5984147214330733e-05\nfac1 time use 3.59287005267106e-05\nfac1 time use 4.5873253839090466e-05\nfac1 time use 5.613858957076445e-05\nfac1 time use 6.640393985435367e-05\nfac1 time use 7.666928286198527e-05\nfac1 time use 8.693462586961687e-05\nfac1 time use 9.752076584845781e-05\n3628800\n"
     ]
    }
   ],
   "source": [
    "import math\n",
    "import time\n",
    "\n",
    "#print(math.fabs(5))\n",
    "\n",
    "\n",
    "def time_use(fn):\n",
    "    def _wrapper(*args, **kwargs):\n",
    "        s = time.clock()\n",
    "        result=fn(*args, **kwargs)\n",
    "        print(\"%s time use %s\" % (fn.__name__, time.clock() - s))\n",
    "        return result\n",
    "    return _wrapper\n",
    "\n",
    "\n",
    "@time_use\n",
    "def fac(n):\n",
    "    return n * fac(n - 1) if n > 1 else 1\n",
    "\n",
    "\n",
    "@time_use\n",
    "@lru_cache()\n",
    "def fac1(n):\n",
    "    return n * fac1(n - 1) if n > 1 else 1\n",
    "\n",
    "\n",
    "print(fac(10))\n",
    "print(fac1(10))\n"
   ]
  },
  {
   "cell_type": "code",
   "execution_count": 9,
   "metadata": {},
   "outputs": [
    {
     "name": "stdout",
     "output_type": "stream",
     "text": [
      "test cost 0.10004924156754669 second\ntest2 cost 0.19936354872908169 second"
     ]
    },
    {
     "name": "stdout",
     "output_type": "stream",
     "text": [
      "\n"
     ]
    }
   ],
   "source": [
    "import time\n",
    "\n",
    "def time_me(fn):\n",
    "    def _wrapper(*args, **kwargs):\n",
    "        start = time.clock()\n",
    "        fn(*args, **kwargs)\n",
    "        print(\"%s cost %s second\"%(fn.__name__, time.clock() - start))\n",
    "    return _wrapper\n",
    "\n",
    "\n",
    "\n",
    "#这个装饰器可以在方便地统计函数运行的耗时。用来分析脚本的性能是最好不过了。\n",
    "#这样用：\n",
    "@time_me\n",
    "def test(x, y):\n",
    "    time.sleep(0.1)\n",
    "\n",
    "@time_me\n",
    "def test2(x):\n",
    "    time.sleep(0.2)\n",
    "\n",
    "test(1, 2)\n",
    "test2(2)"
   ]
  }
 ],
 "metadata": {
  "kernelspec": {
   "display_name": "Python 2",
   "language": "python",
   "name": "python2"
  },
  "language_info": {
   "codemirror_mode": {
    "name": "ipython",
    "version": 2
   },
   "file_extension": ".py",
   "mimetype": "text/x-python",
   "name": "python",
   "nbconvert_exporter": "python",
   "pygments_lexer": "ipython2",
   "version": "2.7.6"
  }
 },
 "nbformat": 4,
 "nbformat_minor": 0
}
