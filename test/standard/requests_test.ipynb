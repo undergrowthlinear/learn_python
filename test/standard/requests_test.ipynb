{
 "cells": [
  {
   "cell_type": "code",
   "execution_count": 19,
   "metadata": {
    "collapsed": false
   },
   "outputs": [],
   "source": [
    "import requests\n",
    "\n",
    "def display_res(res):\n",
    "    print('res.status_code:{},res.encoding:{}'.format(res.status_code,\n",
    "                                                   res.encoding))\n",
    "    print(res.headers)\n",
    "    res_data = res.json()\n",
    "    for k, v in res_data.items():\n",
    "        print(k)\n",
    "    print('total_count:{}'.format(res_data['total_count']))\n",
    "    data = res_data['items']\n",
    "    print('items:{}'.format(len(data)))\n",
    "    # print(data[0])\n",
    "    print('=============================================================')\n",
    "    #for k, v in data[0].items():\n",
    "    #    print('{}:{}'.format(k, v))\n",
    "    print('=============================================================')\n",
    "    for item in data:\n",
    "        print('full_name:{},star:{},updated_at:{},description:{}'.format(item[\n",
    "                                                                             'full_name'],\n",
    "                                                                         item[\n",
    "                                                                             'stargazers_count'],\n",
    "                                                                         item[\n",
    "                                                                             'updated_at'],\n",
    "                                                                         item[\n",
    "                                                                             'description']))\n"
   ]
  },
  {
   "cell_type": "code",
   "execution_count": 20,
   "metadata": {},
   "outputs": [
    {
     "name": "stdout",
     "output_type": "stream",
     "text": [
      "res.status_code:200,res.encoding:utf-8\n{'Vary': 'Accept-Encoding', 'Link': '<https://api.github.com/search/repositories?q=language%3Apython&sort=stars&order=desc&page=2>; rel=\"next\", <https://api.github.com/search/repositories?q=language%3Apython&sort=stars&order=desc&page=34>; rel=\"last\"', 'Content-Type': 'application/json; charset=utf-8', 'Strict-Transport-Security': 'max-age=31536000; includeSubdomains; preload', 'Server': 'GitHub.com', 'Content-Encoding': 'gzip', 'X-GitHub-Request-Id': 'DDF1:441A:B1CE3E:F42468:5C108832', 'X-RateLimit-Remaining': '9', 'Cache-Control': 'no-cache', 'Status': '200 OK', 'Transfer-Encoding': 'chunked', 'X-RateLimit-Reset': '1544587375', 'Content-Security-Policy': \"default-src 'none'\", 'Date': 'Wed, 12 Dec 2018 04:01:55 GMT', 'X-Frame-Options': 'deny', 'Access-Control-Expose-Headers': 'ETag, Link, Location, Retry-After, X-GitHub-OTP, X-RateLimit-Limit, X-RateLimit-Remaining, X-RateLimit-Reset, X-OAuth-Scopes, X-Accepted-OAuth-Scopes, X-Poll-Interval, X-GitHub-Media-Type', 'X-GitHub-Media-Type': 'github.v3; format=json', 'X-RateLimit-Limit': '10', 'Referrer-Policy': 'origin-when-cross-origin, strict-origin-when-cross-origin', 'Access-Control-Allow-Origin': '*', 'X-XSS-Protection': '1; mode=block', 'X-Content-Type-Options': 'nosniff'}\nincomplete_results\ntotal_count\nitems\ntotal_count:3300885\nitems:30\n=============================================================\n=============================================================\nfull_name:vinta/awesome-python,star:58554,updated_at:2018-12-12T03:16:44Z,description:A curated list of awesome Python frameworks, libraries, software and resources\nfull_name:donnemartin/system-design-primer,star:53309,updated_at:2018-12-12T03:58:02Z,description:Learn how to design large-scale systems. Prep for the system design interview.  Includes Anki flashcards.\nfull_name:tensorflow/models,star:45773,updated_at:2018-12-12T04:01:14Z,description:Models and examples built with TensorFlow\nfull_name:toddmotto/public-apis,star:45190,updated_at:2018-12-12T04:01:17Z,description:A collective list of free APIs for use in software and web development.\nfull_name:rg3/youtube-dl,star:44743,updated_at:2018-12-12T03:46:29Z,description:Command-line program to download videos from YouTube.com and other video sites\nfull_name:pallets/flask,star:40600,updated_at:2018-12-12T03:31:45Z,description:The Python micro framework for building web applications.\nfull_name:nvbn/thefuck,star:39075,updated_at:2018-12-12T02:56:35Z,description:Magnificent app which corrects your previous console command.\nfull_name:jakubroztocil/httpie,star:38508,updated_at:2018-12-12T02:01:58Z,description:As easy as httpie /aitch-tee-tee-pie/ 🥧 Modern command line HTTP client – user-friendly curl alternative with intuitive UI, JSON support, syntax highlighting, wget-like downloads, extensions, etc.  https://twitter.com/clihttp\nfull_name:django/django,star:38193,updated_at:2018-12-12T02:57:30Z,description:The Web framework for perfectionists with deadlines.\nfull_name:josephmisiti/awesome-machine-learning,star:36886,updated_at:2018-12-12T02:30:22Z,description:A curated list of awesome Machine Learning frameworks, libraries and software.\nfull_name:keras-team/keras,star:36320,updated_at:2018-12-12T03:34:21Z,description:Deep Learning for humans\nfull_name:requests/requests,star:36148,updated_at:2018-12-12T03:59:04Z,description:Python HTTP Requests for Humans™ ✨🍰✨\nfull_name:ansible/ansible,star:34232,updated_at:2018-12-12T03:09:42Z,description:Ansible is a radically simple IT automation platform that makes your applications and systems easier to deploy. Avoid writing scripts or custom code to deploy and update your applications — automate in a language that approaches plain English, using SSH, with no agents to install on remote systems. https://docs.ansible.com/ansible/\nfull_name:scikit-learn/scikit-learn,star:32228,updated_at:2018-12-12T02:04:32Z,description:scikit-learn: machine learning in Python\nfull_name:minimaxir/big-list-of-naughty-strings,star:30746,updated_at:2018-12-12T00:20:58Z,description:The Big List of Naughty Strings is a list of strings which have a high probability of causing issues when used as user-input data.\nfull_name:scrapy/scrapy,star:30452,updated_at:2018-12-12T03:47:46Z,description:Scrapy, a fast high-level web crawling & scraping framework for Python.\nfull_name:shadowsocks/shadowsocks,star:27837,updated_at:2018-12-12T03:51:00Z,description:None\nfull_name:XX-net/XX-Net,star:25737,updated_at:2018-12-12T03:18:17Z,description:a web proxy tool\nfull_name:certbot/certbot,star:23788,updated_at:2018-12-12T03:07:34Z,description:Certbot is EFF's tool to obtain certs from Let's Encrypt and (optionally) auto-enable HTTPS on your server.  It can also act as a client for any other CA that uses the ACME protocol.\nfull_name:python/cpython,star:21319,updated_at:2018-12-12T03:28:33Z,description:The Python programming language\nfull_name:soimort/you-get,star:21219,updated_at:2018-12-12T03:46:42Z,description::arrow_double_down: Dumb downloader that scrapes the web\nfull_name:isocpp/CppCoreGuidelines,star:20640,updated_at:2018-12-12T02:34:55Z,description:The C++ Core Guidelines are a set of tried-and-true guidelines, rules, and best practices about coding in C++\nfull_name:floodsung/Deep-Learning-Papers-Reading-Roadmap,star:20502,updated_at:2018-12-12T02:42:49Z,description:Deep Learning papers reading roadmap for anyone who are eager to learn this amazing tech!\nfull_name:tldr-pages/tldr,star:19635,updated_at:2018-12-12T01:36:44Z,description::books: Simplified and community-driven man pages\nfull_name:TheAlgorithms/Python,star:19192,updated_at:2018-12-12T03:11:27Z,description:All Algorithms implemented in Python\nfull_name:ageitgey/face_recognition,star:19184,updated_at:2018-12-12T03:19:48Z,description:The world's simplest facial recognition api for Python and the command line\nfull_name:home-assistant/home-assistant,star:19181,updated_at:2018-12-12T03:49:24Z,description::house_with_garden: Open source home automation that puts local control and privacy first\nfull_name:getsentry/sentry,star:19089,updated_at:2018-12-12T03:56:54Z,description:Sentry is cross-platform application monitoring, with a focus on error reporting.\nfull_name:0xAX/linux-insides,star:18642,updated_at:2018-12-12T02:56:07Z,description:A little bit about a linux kernel\nfull_name:faif/python-patterns,star:18223,updated_at:2018-12-11T22:20:18Z,description:A collection of design patterns/idioms in Python\n"
     ]
    }
   ],
   "source": [
    "res = requests.get('https://api.github.com/search/repositories?q=language'\n",
    "                   ':python&sort=stars&order=desc')\n",
    "display_res(res)"
   ]
  },
  {
   "cell_type": "code",
   "execution_count": 21,
   "metadata": {},
   "outputs": [
    {
     "name": "stdout",
     "output_type": "stream",
     "text": [
      "res.status_code:200,res.encoding:utf-8\n{'Vary': 'Accept-Encoding', 'Link': '<https://api.github.com/search/repositories?q=language%3Ajava&sort=stars&order=desc&page=2>; rel=\"next\", <https://api.github.com/search/repositories?q=language%3Ajava&sort=stars&order=desc&page=34>; rel=\"last\"', 'Content-Type': 'application/json; charset=utf-8', 'Strict-Transport-Security': 'max-age=31536000; includeSubdomains; preload', 'Server': 'GitHub.com', 'Content-Encoding': 'gzip', 'X-GitHub-Request-Id': 'DE23:7D4B:B14067:F340A7:5C108854', 'X-RateLimit-Remaining': '8', 'Cache-Control': 'no-cache', 'Status': '200 OK', 'Transfer-Encoding': 'chunked', 'X-RateLimit-Reset': '1544587375', 'Content-Security-Policy': \"default-src 'none'\", 'Date': 'Wed, 12 Dec 2018 04:02:29 GMT', 'X-Frame-Options': 'deny', 'Access-Control-Expose-Headers': 'ETag, Link, Location, Retry-After, X-GitHub-OTP, X-RateLimit-Limit, X-RateLimit-Remaining, X-RateLimit-Reset, X-OAuth-Scopes, X-Accepted-OAuth-Scopes, X-Poll-Interval, X-GitHub-Media-Type', 'X-GitHub-Media-Type': 'github.v3; format=json', 'X-RateLimit-Limit': '10', 'Referrer-Policy': 'origin-when-cross-origin, strict-origin-when-cross-origin', 'Access-Control-Allow-Origin': '*', 'X-XSS-Protection': '1; mode=block', 'X-Content-Type-Options': 'nosniff'}\nincomplete_results\ntotal_count\nitems\ntotal_count:5642393\nitems:30\n=============================================================\n=============================================================\nfull_name:iluwatar/java-design-patterns,star:42354,updated_at:2018-12-12T03:49:55Z,description:Design patterns implemented in Java\nfull_name:ReactiveX/RxJava,star:36722,updated_at:2018-12-12T02:59:25Z,description:RxJava – Reactive Extensions for the JVM – a library for composing asynchronous and event-based programs using observable sequences for the Java VM.\nfull_name:elastic/elasticsearch,star:36712,updated_at:2018-12-12T03:22:02Z,description:Open Source, Distributed, RESTful Search Engine\nfull_name:spring-projects/spring-boot,star:31995,updated_at:2018-12-12T03:39:18Z,description:Spring Boot\nfull_name:kdn251/interviews,star:30837,updated_at:2018-12-12T04:01:53Z,description:Everything you need to know to get the job.\nfull_name:square/retrofit,star:30633,updated_at:2018-12-12T03:37:00Z,description:Type-safe HTTP client for Android and Java by Square, Inc.\nfull_name:square/okhttp,star:30032,updated_at:2018-12-12T02:54:05Z,description:An HTTP+HTTP/2 client for Android and Java applications.\nfull_name:google/guava,star:28598,updated_at:2018-12-12T02:13:36Z,description:Google core libraries for Java\nfull_name:spring-projects/spring-framework,star:25305,updated_at:2018-12-12T03:13:08Z,description:Spring Framework\nfull_name:PhilJay/MPAndroidChart,star:25227,updated_at:2018-12-12T02:10:22Z,description:A powerful 🚀 Android chart view / graph view library, supporting line- bar- pie- radar- bubble- and candlestick charts as well as scaling, dragging and animations.\nfull_name:bumptech/glide,star:24236,updated_at:2018-12-12T03:16:08Z,description:An image loading and caching library for Android focused on smooth scrolling\nfull_name:airbnb/lottie-android,star:23480,updated_at:2018-12-12T03:42:05Z,description:Render After Effects animations natively on Android and iOS, Web, and React Native\nfull_name:apache/incubator-dubbo,star:23209,updated_at:2018-12-12T03:57:32Z,description:Apache Dubbo (incubating) is a high-performance, java based, open source RPC framework.\nfull_name:JakeWharton/butterknife,star:22712,updated_at:2018-12-12T03:13:55Z,description:Bind Android views and callbacks to fields and methods.\nfull_name:Blankj/AndroidUtilCode,star:21341,updated_at:2018-12-12T03:37:32Z,description::fire: Android developers should collect the following utils(updating).\nfull_name:square/leakcanary,star:21315,updated_at:2018-12-11T20:02:00Z,description:A memory leak detection library for Android and Java.\nfull_name:zxing/zxing,star:20928,updated_at:2018-12-12T03:38:08Z,description:ZXing (\"Zebra Crossing\") barcode scanning library for Java, Android\nfull_name:greenrobot/EventBus,star:19882,updated_at:2018-12-12T03:19:27Z,description:Event bus for Android and Java that simplifies communication between Activities, Fragments, Threads, Services, etc. Less code, better quality.\nfull_name:proxyee-down-org/proxyee-down,star:19433,updated_at:2018-12-12T03:58:59Z,description:http下载工具，基于http代理，支持多连接分块下载\nfull_name:crossoverJie/JCSprout,star:17314,updated_at:2018-12-12T04:01:55Z,description:👨‍🎓 Java Core Sprout : basic, concurrent, algorithm \nfull_name:ReactiveX/RxAndroid,star:17237,updated_at:2018-12-12T03:45:04Z,description:RxJava bindings for Android\nfull_name:netty/netty,star:16991,updated_at:2018-12-12T03:32:43Z,description:Netty project - an event-driven asynchronous network application framework\nfull_name:skylot/jadx,star:16761,updated_at:2018-12-12T03:36:54Z,description:Dex to Java decompiler\nfull_name:nostra13/Android-Universal-Image-Loader,star:16374,updated_at:2018-12-12T03:45:34Z,description:Powerful and flexible library for loading, caching and displaying images on Android.\nfull_name:square/picasso,star:16255,updated_at:2018-12-12T01:41:11Z,description:A powerful image downloading and caching library for Android\nfull_name:Snailclimb/JavaGuide,star:15961,updated_at:2018-12-12T03:58:34Z,description:【Java学习+面试指南】 一份涵盖大部分Java程序员所需要掌握的核心知识。\nfull_name:Netflix/Hystrix,star:15906,updated_at:2018-12-12T04:00:06Z,description:Hystrix is a latency and fault tolerance library designed to isolate points of access to remote systems, services and 3rd party libraries, stop cascading failure and enable resilience in complex distributed systems where failure is inevitable.\nfull_name:alibaba/fastjson,star:15800,updated_at:2018-12-12T03:28:19Z,description::bullettrain_side: A fast JSON parser/generator for Java\nfull_name:CymChad/BaseRecyclerViewAdapterHelper,star:15782,updated_at:2018-12-12T03:05:54Z,description:BRVAH:Powerful and flexible RecyclerAdapter\nfull_name:scwang90/SmartRefreshLayout,star:15517,updated_at:2018-12-12T04:02:10Z,description:🔥下拉刷新、上拉加载、二级刷新、淘宝二楼、RefreshLayout、OverScroll，Android智能下拉刷新框架，支持越界回弹、越界拖动，具有极强的扩展性，集成了几十种炫酷的Header和 Footer。\n"
     ]
    }
   ],
   "source": [
    "res = requests.get('https://api.github.com/search/repositories?q=language'\n",
    "                   ':java&sort=stars&order=desc')\n",
    "display_res(res)"
   ]
  },
  {
   "cell_type": "code",
   "execution_count": null,
   "metadata": {},
   "outputs": [],
   "source": []
  }
 ],
 "metadata": {
  "kernelspec": {
   "display_name": "Python 2",
   "language": "python",
   "name": "python2"
  },
  "language_info": {
   "codemirror_mode": {
    "name": "ipython",
    "version": 2
   },
   "file_extension": ".py",
   "mimetype": "text/x-python",
   "name": "python",
   "nbconvert_exporter": "python",
   "pygments_lexer": "ipython2",
   "version": "2.7.6"
  }
 },
 "nbformat": 4,
 "nbformat_minor": 0
}
