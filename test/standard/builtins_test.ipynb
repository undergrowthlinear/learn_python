{
 "cells": [
  {
   "cell_type": "code",
   "execution_count": 6,
   "metadata": {
    "collapsed": true
   },
   "outputs": [
    {
     "name": "stdout",
     "output_type": "stream",
     "text": [
      "10\n55\n<class 'zip'>\n(1, 4)\n(2, 5)\n(3, 6)\n"
     ]
    }
   ],
   "source": [
    "print(abs(-10))\n",
    "print(sum([x for x in range(1,11)]))\n",
    "# 合并迭代元素\n",
    "hb=zip([1,2,3],[4,5,6,7])\n",
    "print(type(hb))\n",
    "for i in hb:\n",
    "    print(i)"
   ]
  },
  {
   "cell_type": "code",
   "execution_count": 11,
   "metadata": {},
   "outputs": [
    {
     "name": "stdout",
     "output_type": "stream",
     "text": [
      "True\nFalse\nTrue\nTrue\n97\n"
     ]
    }
   ],
   "source": [
    "# 如果 iterable 的所有元素为真（或迭代器为空），返回 True\n",
    "print(all([1,2]))\n",
    "print(all([1,None]))\n",
    "# 如果*iterable*的任一元素为真则返回``True``。如果迭代器为空，返回``False``\n",
    "print(any([1,2]))\n",
    "print(any([1,None]))\n",
    "print(ascii(97))"
   ]
  },
  {
   "cell_type": "code",
   "execution_count": 12,
   "metadata": {},
   "outputs": [
    {
     "name": "stdout",
     "output_type": "stream",
     "text": [
      "0b1010\n"
     ]
    }
   ],
   "source": [
    "# 将一个整数转变为一个前缀为“0b”的二进制字符串\n",
    "print(bin(10))"
   ]
  },
  {
   "cell_type": "code",
   "execution_count": 14,
   "metadata": {},
   "outputs": [
    {
     "name": "stdout",
     "output_type": "stream",
     "text": [
      "a\n(3, 1)\n"
     ]
    }
   ],
   "source": [
    "print(chr(97))\n",
    "print(divmod(10,3))"
   ]
  },
  {
   "cell_type": "code",
   "execution_count": 15,
   "metadata": {},
   "outputs": [
    {
     "data": {
      "text/plain": [
       "[(0, 'Spring'), (1, 'Summer'), (2, 'Fall'), (3, 'Winter')]"
      ]
     },
     "execution_count": 15,
     "metadata": {},
     "output_type": "execute_result"
    }
   ],
   "source": [
    "seasons = ['Spring', 'Summer', 'Fall', 'Winter']\n",
    "list(enumerate(seasons))"
   ]
  },
  {
   "cell_type": "code",
   "execution_count": 26,
   "metadata": {},
   "outputs": [
    {
     "name": "stdout",
     "output_type": "stream",
     "text": [
      "2\n6334503626018463976\n0x10\n78732288\n123\nTrue\nFalse\n"
     ]
    }
   ],
   "source": [
    "# 函数也可以用来执行任何代码对象\n",
    "x=1\n",
    "print(eval('x+1'))\n",
    "print(hash('a123'))\n",
    "print(hex(16))\n",
    "print(id('123'))\n",
    "#x=input('you name')\n",
    "print(int('123'))\n",
    "print(isinstance(1,int))\n",
    "print(issubclass(str,int))"
   ]
  },
  {
   "cell_type": "code",
   "execution_count": 29,
   "metadata": {},
   "outputs": [
    {
     "name": "stdout",
     "output_type": "stream",
     "text": [
      "3\n3\n[1, 2]\n"
     ]
    }
   ],
   "source": [
    "print(len([1,23,4]))\n",
    "print(len('abc'))\n",
    "print(list([1,2]))"
   ]
  },
  {
   "cell_type": "code",
   "execution_count": 30,
   "metadata": {},
   "outputs": [
    {
     "name": "stdout",
     "output_type": "stream",
     "text": [
      "100\n1\n"
     ]
    }
   ],
   "source": [
    "data=[x for x in range(1,101)]\n",
    "print(max(data))\n",
    "print(min(data))"
   ]
  },
  {
   "cell_type": "code",
   "execution_count": 33,
   "metadata": {},
   "outputs": [
    {
     "name": "stdout",
     "output_type": "stream",
     "text": [
      "0o10\n3125\n"
     ]
    }
   ],
   "source": [
    "print(oct(8))\n",
    "print(pow(5,5))"
   ]
  },
  {
   "cell_type": "code",
   "execution_count": 37,
   "metadata": {},
   "outputs": [
    {
     "name": "stdout",
     "output_type": "stream",
     "text": [
      "[1, 2, 3, 4, 5, 6, 7, 8, 9, 10, 11, 12, 13, 14, 15, 16, 17, 18, 19, 20, 21, 22, 23, 24, 25, 26, 27, 28, 29, 30, 31, 32, 33, 34, 35, 36, 37, 38, 39, 40, 41, 42, 43, 44, 45, 46, 47, 48, 49, 50, 51, 52, 53, 54, 55, 56, 57, 58, 59, 60, 61, 62, 63, 64, 65, 66, 67, 68, 69, 70, 71, 72, 73, 74, 75, 76, 77, 78, 79, 80, 81, 82, 83, 84, 85, 86, 87, 88, 89, 90, 91, 92, 93, 94, 95, 96, 97, 98, 99, 100]\n<list_reverseiterator object at 0x0000000004A7EB38>\n[1, 2, 3, 4, 5, 6, 7, 8, 9, 10, 11, 12, 13, 14, 15, 16, 17, 18, 19, 20, 21, 22, 23, 24, 25, 26, 27, 28, 29, 30, 31, 32, 33, 34, 35, 36, 37, 38, 39, 40, 41, 42, 43, 44, 45, 46, 47, 48, 49, 50, 51, 52, 53, 54, 55, 56, 57, 58, 59, 60, 61, 62, 63, 64, 65, 66, 67, 68, 69, 70, 71, 72, 73, 74, 75, 76, 77, 78, 79, 80, 81, 82, 83, 84, 85, 86, 87, 88, 89, 90, 91, 92, 93, 94, 95, 96, 97, 98, 99, 100]\n"
     ]
    }
   ],
   "source": [
    "d=[x for x in range(1,101)]\n",
    "print(d)\n",
    "print(repr(reversed(d)))\n",
    "#for i in reversed(d):\n",
    "#    print(i)\n",
    "print(d)"
   ]
  },
  {
   "cell_type": "code",
   "execution_count": 39,
   "metadata": {},
   "outputs": [
    {
     "name": "stdout",
     "output_type": "stream",
     "text": [
      "[40, 92, 80, 91, 38, 20, 54, 40, 96, 21, 69, 75, 45, 37, 62, 47, 83, 95, 47, 97, 13, 34, 38, 32, 86, 37, 98, 37, 28, 72, 39, 31, 72, 38, 98, 10, 63, 11, 38, 69, 10, 57, 57, 48, 54, 32, 44, 56, 97, 25, 79, 76, 48, 25, 28, 49, 86, 7, 8, 87, 94, 77, 70, 73, 89, 54, 13, 39, 50, 46, 64, 85, 76, 20, 21, 76, 9, 48, 21, 91, 49, 67, 22, 53, 99, 96, 55, 44, 61, 32, 10, 21, 28, 25, 79, 70, 29, 6, 59, 82]\n[6, 7, 8, 9, 10, 10, 10, 11, 13, 13, 20, 20, 21, 21, 21, 21, 22, 25, 25, 25, 28, 28, 28, 29, 31, 32, 32, 32, 34, 37, 37, 37, 38, 38, 38, 38, 39, 39, 40, 40, 44, 44, 45, 46, 47, 47, 48, 48, 48, 49, 49, 50, 53, 54, 54, 54, 55, 56, 57, 57, 59, 61, 62, 63, 64, 67, 69, 69, 70, 70, 72, 72, 73, 75, 76, 76, 76, 77, 79, 79, 80, 82, 83, 85, 86, 86, 87, 89, 91, 91, 92, 94, 95, 96, 96, 97, 97, 98, 98, 99]\n[40, 92, 80, 91, 38, 20, 54, 40, 96, 21, 69, 75, 45, 37, 62, 47, 83, 95, 47, 97, 13, 34, 38, 32, 86, 37, 98, 37, 28, 72, 39, 31, 72, 38, 98, 10, 63, 11, 38, 69, 10, 57, 57, 48, 54, 32, 44, 56, 97, 25, 79, 76, 48, 25, 28, 49, 86, 7, 8, 87, 94, 77, 70, 73, 89, 54, 13, 39, 50, 46, 64, 85, 76, 20, 21, 76, 9, 48, 21, 91, 49, 67, 22, 53, 99, 96, 55, 44, 61, 32, 10, 21, 28, 25, 79, 70, 29, 6, 59, 82]\n"
     ]
    }
   ],
   "source": [
    "import random\n",
    "d=[]\n",
    "for i in range(1,101):\n",
    "    d.append(random.randint(1,100))\n",
    "print(d)\n",
    "print(sorted(d))\n",
    "print(d)"
   ]
  },
  {
   "cell_type": "code",
   "execution_count": 40,
   "metadata": {},
   "outputs": [
    {
     "name": "stdout",
     "output_type": "stream",
     "text": [
      "<class 'int'>\n"
     ]
    }
   ],
   "source": [
    "print(type(10))"
   ]
  },
  {
   "cell_type": "code",
   "execution_count": 44,
   "metadata": {},
   "outputs": [
    {
     "name": "stdout",
     "output_type": "stream",
     "text": [
      "True\nFalse\nNone\nNotImplemented\nEllipsis\nCopyright (c) 2001-2018 Python Software Foundation.\nAll Rights Reserved.\n\nCopyright (c) 2000 BeOpen.com.\nAll Rights Reserved.\n\nCopyright (c) 1995-2001 Corporation for National Research Initiatives.\nAll Rights Reserved.\n\nCopyright (c) 1991-1995 Stichting Mathematisch Centrum, Amsterdam.\nAll Rights Reserved.\nNone\n"
     ]
    }
   ],
   "source": [
    "print(True)\n",
    "print(False)\n",
    "print(None)\n",
    "print(NotImplemented)\n",
    "print(Ellipsis)\n",
    "print(copyright())"
   ]
  }
 ],
 "metadata": {
  "kernelspec": {
   "display_name": "Python 2",
   "language": "python",
   "name": "python2"
  },
  "language_info": {
   "codemirror_mode": {
    "name": "ipython",
    "version": 2
   },
   "file_extension": ".py",
   "mimetype": "text/x-python",
   "name": "python",
   "nbconvert_exporter": "python",
   "pygments_lexer": "ipython2",
   "version": "2.7.6"
  }
 },
 "nbformat": 4,
 "nbformat_minor": 0
}
