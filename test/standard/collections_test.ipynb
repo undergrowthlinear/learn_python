{
 "cells": [
  {
   "cell_type": "code",
   "execution_count": 4,
   "metadata": {
    "collapsed": true
   },
   "outputs": [
    {
     "name": "stdout",
     "output_type": "stream",
     "text": [
      "Counter({'l': 3, 'o': 3, 'r': 3, 'g': 2, 'm': 2, ' ': 2, 'd': 1, 'w': 1, 'p': 1, 'a': 1, 'e': 1, 'h': 1, 'n': 1, 'i': 1})\n=========================================================================\n[('a', 5), ('b', 4), ('c', 3)]\ndict_values([3, 2, 5, 1, 4])\ndict_keys(['c', 'd', 'a', 'e', 'b'])\ndict_items([('c', 3), ('d', 2), ('a', 5), ('e', 1), ('b', 4)])\n"
     ]
    }
   ],
   "source": [
    "from collections import Counter\n",
    "c=Counter()\n",
    "for ch in 'programming hello world':\n",
    "    c[ch]=c[ch]+1\n",
    "print(c)\n",
    "print(\n",
    "    '=========================================================================')\n",
    "c = Counter('abcdeabcdabcaba')\n",
    "print(c.most_common(3))\n",
    "print(c.values())\n",
    "print(c.keys())\n",
    "print(c.items())"
   ]
  },
  {
   "cell_type": "code",
   "execution_count": 7,
   "metadata": {},
   "outputs": [
    {
     "name": "stdout",
     "output_type": "stream",
     "text": [
      "OrderedDict([('k1', 'v1'), ('k2', 'v2'), ('k0', 'v0'), ('a', 'v0')])\n{'k1': 'v1', 'a': 'v0', 'k2': 'v2', 'k0': 'v0'}\n"
     ]
    }
   ],
   "source": [
    "from collections import OrderedDict\n",
    "o=OrderedDict()\n",
    "o['k1']='v1'\n",
    "o['k2']='v2'\n",
    "o['k0']='v0'\n",
    "o['a']='v0'\n",
    "print(o)\n",
    "o1=dict()\n",
    "o1['k1']='v1'\n",
    "o1['k2']='v2'\n",
    "o1['k0']='v0'\n",
    "o1['a']='v0'\n",
    "print(o1)"
   ]
  }
 ],
 "metadata": {
  "kernelspec": {
   "display_name": "Python 2",
   "language": "python",
   "name": "python2"
  },
  "language_info": {
   "codemirror_mode": {
    "name": "ipython",
    "version": 2
   },
   "file_extension": ".py",
   "mimetype": "text/x-python",
   "name": "python",
   "nbconvert_exporter": "python",
   "pygments_lexer": "ipython2",
   "version": "2.7.6"
  }
 },
 "nbformat": 4,
 "nbformat_minor": 0
}
