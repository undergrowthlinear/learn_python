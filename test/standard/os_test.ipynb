{
 "cells": [
  {
   "cell_type": "code",
   "execution_count": 4,
   "metadata": {
    "collapsed": true
   },
   "outputs": [
    {
     "name": "stdout",
     "output_type": "stream",
     "text": [
      "nt\n\r\n\n['.git', '.gitignore', '.idea', 'clf.pkl', 'flask', 'getjpg.py', 'getjpg2.py', 'hello.py', 'python_learn_note.md', 'README.md', 'tensor_log', 'test', 'wsgi']\n.\nFalse\n"
     ]
    }
   ],
   "source": [
    "import os\n",
    "print(os.name)\n",
    "print(os.linesep)\n",
    "print(os.listdir(os.curdir))\n",
    "print(os.path.curdir)\n",
    "print(os.path.exists('a.txt'))"
   ]
  }
 ],
 "metadata": {
  "kernelspec": {
   "display_name": "Python 2",
   "language": "python",
   "name": "python2"
  },
  "language_info": {
   "codemirror_mode": {
    "name": "ipython",
    "version": 2
   },
   "file_extension": ".py",
   "mimetype": "text/x-python",
   "name": "python",
   "nbconvert_exporter": "python",
   "pygments_lexer": "ipython2",
   "version": "2.7.6"
  }
 },
 "nbformat": 4,
 "nbformat_minor": 0
}
