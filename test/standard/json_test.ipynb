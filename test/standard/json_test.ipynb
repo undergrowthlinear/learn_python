{
 "cells": [
  {
   "cell_type": "code",
   "execution_count": 1,
   "metadata": {
    "collapsed": true
   },
   "outputs": [
    {
     "name": "stdout",
     "output_type": "stream",
     "text": [
      "1\n2\n4\n5\n"
     ]
    }
   ],
   "source": [
    "import json\n",
    "j_a = [1,2,4,5]\n",
    "with open('json.txt','w') as j_f:\n",
    "    json.dump(j_a,j_f)\n",
    "\n",
    "with open('json.txt','r') as j_f:\n",
    "    for i in json.load(j_f):\n",
    "        print(i)"
   ]
  },
  {
   "cell_type": "code",
   "execution_count": 6,
   "metadata": {},
   "outputs": [
    {
     "name": "stdout",
     "output_type": "stream",
     "text": [
      "<class 'dict'>\nk2 v2\nk1 v1\n"
     ]
    }
   ],
   "source": [
    "j_d = {'k1':'v1','k2':'v2'}\n",
    "with open('json.txt','w') as j_f:\n",
    "    json.dump(j_d,j_f)\n",
    "\n",
    "with open('json.txt','r') as j_f:\n",
    "    d=json.load(j_f)\n",
    "    print(type(d))\n",
    "for k,v in d.items():\n",
    "    print(k,v)"
   ]
  }
 ],
 "metadata": {
  "kernelspec": {
   "display_name": "Python 2",
   "language": "python",
   "name": "python2"
  },
  "language_info": {
   "codemirror_mode": {
    "name": "ipython",
    "version": 2
   },
   "file_extension": ".py",
   "mimetype": "text/x-python",
   "name": "python",
   "nbconvert_exporter": "python",
   "pygments_lexer": "ipython2",
   "version": "2.7.6"
  }
 },
 "nbformat": 4,
 "nbformat_minor": 0
}
