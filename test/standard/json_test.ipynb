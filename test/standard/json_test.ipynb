{
 "cells": [
  {
   "cell_type": "code",
   "execution_count": 1,
   "metadata": {
    "collapsed": true
   },
   "outputs": [
    {
     "name": "stdout",
     "output_type": "stream",
     "text": [
      "1\n2\n4\n5\n"
     ]
    }
   ],
   "source": [
    "import json\n",
    "j_a = [1,2,4,5]\n",
    "with open('json.txt','w') as j_f:\n",
    "    json.dump(j_a,j_f)\n",
    "\n",
    "with open('json.txt','r') as j_f:\n",
    "    for i in json.load(j_f):\n",
    "        print(i)"
   ]
  },
  {
   "cell_type": "code",
   "execution_count": null,
   "metadata": {},
   "outputs": [],
   "source": []
  },
  {
   "cell_type": "code",
   "execution_count": 6,
   "metadata": {},
   "outputs": [
    {
     "name": "stdout",
     "output_type": "stream",
     "text": [
      "<class 'dict'>\nk2 v2\nk1 v1\n"
     ]
    }
   ],
   "source": [
    "j_d = {'k1':'v1','k2':'v2'}\n",
    "with open('json.txt','w') as j_f:\n",
    "    json.dump(j_d,j_f)\n",
    "\n",
    "with open('json.txt','r') as j_f:\n",
    "    d=json.load(j_f)\n",
    "    print(type(d))\n",
    "for k,v in d.items():\n",
    "    print(k,v)"
   ]
  },
  {
   "cell_type": "code",
   "execution_count": 8,
   "metadata": {},
   "outputs": [
    {
     "name": "stdout",
     "output_type": "stream",
     "text": [
      "['name', 'physics', 'python', 'math', 'english']\n['Google', '100', '100', '25', '12']\n['Facebook', '45', '54', '44', '88']\n['Twitter', '54', '76', '13', '91']\n['Yahoo', '54', '452', '26', '100']\n==========================================================\n{'math': '25', 'python': '100', 'english': '12', 'name': 'Google', 'physics': '100'}\n{'math': '44', 'python': '54', 'english': '88', 'name': 'Facebook', 'physics': '45'}\n{'math': '13', 'python': '76', 'english': '91', 'name': 'Twitter', 'physics': '54'}\n{'math': '26', 'python': '452', 'english': '100', 'name': 'Yahoo', 'physics': '54'}\n"
     ]
    }
   ],
   "source": [
    "import csv\n",
    "\n",
    "with open('marks.csv') as f_c:\n",
    "    data = csv.reader(f_c)\n",
    "    for d in data:\n",
    "        print(d)\n",
    "print('==========================================================')\n",
    "with open('marks.csv') as f:\n",
    "    f_csv = csv.DictReader(f)\n",
    "    for row in f_csv:\n",
    "        print(row)\n",
    "print('==========================================================')\n",
    "\n"
   ]
  }
 ],
 "metadata": {
  "kernelspec": {
   "display_name": "Python 2",
   "language": "python",
   "name": "python2"
  },
  "language_info": {
   "codemirror_mode": {
    "name": "ipython",
    "version": 2
   },
   "file_extension": ".py",
   "mimetype": "text/x-python",
   "name": "python",
   "nbconvert_exporter": "python",
   "pygments_lexer": "ipython2",
   "version": "2.7.6"
  }
 },
 "nbformat": 4,
 "nbformat_minor": 0
}
