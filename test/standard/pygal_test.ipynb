{
 "cells": [
  {
   "cell_type": "code",
   "execution_count": 11,
   "metadata": {
    "collapsed": true
   },
   "outputs": [
    {
     "name": "stdout",
     "output_type": "stream",
     "text": [
      "1\n"
     ]
    }
   ],
   "source": [
    "import pygal\n",
    "\n",
    "rel_path = 'test\\\\standard\\\\image\\\\'\n",
    "\n",
    "bar_chart = pygal.Bar()\n",
    "bar_chart.add('Fibonacci', [0, 1, 1, 2, 3, 5, 8, 13, 21, 34, 55])\n",
    "bar_chart.add('Padovan', [1, 1, 1, 2, 2, 3, 4, 5, 7, 9, 12])\n",
    "bar_chart.render_to_file(rel_path + 'bar_chart.svg')\n",
    "print('1')"
   ]
  },
  {
   "cell_type": "code",
   "execution_count": 12,
   "metadata": {},
   "outputs": [],
   "source": [
    "bar_chart = pygal.StackedBar()\n",
    "bar_chart.add('Fibonacci', [0, 1, 1, 2, 3, 5, 8, 13, 21, 34, 55])\n",
    "bar_chart.add('Padovan', [1, 1, 1, 2, 2, 3, 4, 5, 7, 9, 12])\n",
    "bar_chart.render_to_file(rel_path + 'stacked_bar_chart.svg')"
   ]
  },
  {
   "cell_type": "code",
   "execution_count": 15,
   "metadata": {},
   "outputs": [],
   "source": [
    "bar_chart = pygal.HorizontalStackedBar()\n",
    "bar_chart.title = \"Remarquable sequences\"\n",
    "bar_chart.x_labels = map(str, range(11))\n",
    "bar_chart.add('Fibonacci', [0, 1, 1, 2, 3, 5, 8, 13, 21, 34, 55])\n",
    "bar_chart.add('Padovan', [1, 1, 1, 2, 2, 3, 4, 5, 7, 9, 12])\n",
    "bar_chart.render_to_file(rel_path + 'horizon_stacked_bar_chart.svg')\n"
   ]
  },
  {
   "cell_type": "code",
   "execution_count": 17,
   "metadata": {},
   "outputs": [],
   "source": [
    "line_chart = pygal.Line()\n",
    "line_chart.title = 'Browser usage evolution (in %)'\n",
    "line_chart.x_labels = map(str, range(2002, 2013))\n",
    "line_chart.add('Firefox', [None, None,    0, 16.6,   25,   31, 36.4, 45.5, 46.3, 42.8, 37.1])\n",
    "line_chart.add('Chrome',  [None, None, None, None, None, None,    0,  3.9, 10.8, 23.8, 35.3])\n",
    "line_chart.add('IE',      [85.8, 84.6, 84.7, 74.5,   66, 58.6, 54.7, 44.8, 36.2, 26.6, 20.1])\n",
    "line_chart.add('Others',  [14.2, 15.4, 15.3,  8.9,    9, 10.4,  8.9,  5.8,  6.7,  6.8,  7.5])\n",
    "line_chart.render_to_file(rel_path + 'line_chart.svg')"
   ]
  },
  {
   "cell_type": "code",
   "execution_count": 19,
   "metadata": {},
   "outputs": [],
   "source": [
    "from datetime import datetime, timedelta\n",
    "date_chart = pygal.Line(x_label_rotation=20)\n",
    "date_chart.x_labels = map(lambda d: d.strftime('%Y-%m-%d'), [\n",
    "    datetime(2013, 1, 2),\n",
    "    datetime(2013, 1, 12),\n",
    "    datetime(2013, 2, 2),\n",
    "    datetime(2013, 2, 22)])\n",
    "date_chart.add(\"Visits\", [300, 412, 823, 672])\n",
    "date_chart.render_to_file(rel_path + 'line_chart_date_chart.svg')"
   ]
  },
  {
   "cell_type": "code",
   "execution_count": 20,
   "metadata": {},
   "outputs": [],
   "source": [
    "pie_chart = pygal.Pie()\n",
    "pie_chart.title = 'Browser usage in February 2012 (in %)'\n",
    "pie_chart.add('IE', 19.5)\n",
    "pie_chart.add('Firefox', 36.6)\n",
    "pie_chart.add('Chrome', 36.3)\n",
    "pie_chart.add('Safari', 4.5)\n",
    "pie_chart.add('Opera', 2.3)\n",
    "pie_chart.render_to_file(rel_path + 'pie_chart.svg')"
   ]
  },
  {
   "cell_type": "code",
   "execution_count": 21,
   "metadata": {},
   "outputs": [],
   "source": [
    "pie_chart = pygal.Pie()\n",
    "pie_chart.title = 'Browser usage by version in February 2012 (in %)'\n",
    "pie_chart.add('IE', [5.7, 10.2, 2.6, 1])\n",
    "pie_chart.add('Firefox', [.6, 16.8, 7.4, 2.2, 1.2, 1, 1, 1.1, 4.3, 1])\n",
    "pie_chart.add('Chrome', [.3, .9, 17.1, 15.3, .6, .5, 1.6])\n",
    "pie_chart.add('Safari', [4.4, .1])\n",
    "pie_chart.add('Opera', [.1, 1.6, .1, .5])\n",
    "pie_chart.render_to_file(rel_path + 'pie_chart_sub.svg')"
   ]
  },
  {
   "cell_type": "code",
   "execution_count": 22,
   "metadata": {},
   "outputs": [],
   "source": [
    "pie_chart = pygal.Pie(inner_radius=.4)\n",
    "pie_chart.title = 'Browser usage in February 2012 (in %)'\n",
    "pie_chart.add('IE', 19.5)\n",
    "pie_chart.add('Firefox', 36.6)\n",
    "pie_chart.add('Chrome', 36.3)\n",
    "pie_chart.add('Safari', 4.5)\n",
    "pie_chart.add('Opera', 2.3)\n",
    "pie_chart.render_to_file(rel_path + 'pie_chart_radius.svg')"
   ]
  },
  {
   "cell_type": "code",
   "execution_count": 23,
   "metadata": {},
   "outputs": [],
   "source": [
    "pie_chart = pygal.Pie(inner_radius=.75)\n",
    "pie_chart.title = 'Browser usage in February 2012 (in %)'\n",
    "pie_chart.add('IE', 19.5)\n",
    "pie_chart.add('Firefox', 36.6)\n",
    "pie_chart.add('Chrome', 36.3)\n",
    "pie_chart.add('Safari', 4.5)\n",
    "pie_chart.add('Opera', 2.3)\n",
    "pie_chart.render_to_file(rel_path + 'pie_chart_radius2.svg')"
   ]
  }
 ],
 "metadata": {
  "kernelspec": {
   "display_name": "Python 2",
   "language": "python",
   "name": "python2"
  },
  "language_info": {
   "codemirror_mode": {
    "name": "ipython",
    "version": 2
   },
   "file_extension": ".py",
   "mimetype": "text/x-python",
   "name": "python",
   "nbconvert_exporter": "python",
   "pygments_lexer": "ipython2",
   "version": "2.7.6"
  }
 },
 "nbformat": 4,
 "nbformat_minor": 0
}
