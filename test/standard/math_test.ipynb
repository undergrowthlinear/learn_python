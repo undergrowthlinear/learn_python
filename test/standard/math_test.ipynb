{
 "cells": [
  {
   "cell_type": "code",
   "execution_count": 9,
   "metadata": {
    "collapsed": true
   },
   "outputs": [
    {
     "name": "stdout",
     "output_type": "stream",
     "text": [
      "3.141592653589793\n7\n6\n6\n1.0\n25.0\n4.0\n5.0\n1.0\n2.0\n"
     ]
    }
   ],
   "source": [
    "import math\n",
    "print(math.pi)\n",
    "print(math.ceil(6.2))\n",
    "print(math.floor(6.2))\n",
    "print(math.trunc(6.2))\n",
    "print(math.fmod(5,2))\n",
    "print(math.pow(5,2))\n",
    "print(math.sqrt(16))\n",
    "print(math.fabs(-5))\n",
    "print(math.log10(10))\n",
    "print(math.log(100,10))"
   ]
  }
 ],
 "metadata": {
  "kernelspec": {
   "display_name": "Python 2",
   "language": "python",
   "name": "python2"
  },
  "language_info": {
   "codemirror_mode": {
    "name": "ipython",
    "version": 2
   },
   "file_extension": ".py",
   "mimetype": "text/x-python",
   "name": "python",
   "nbconvert_exporter": "python",
   "pygments_lexer": "ipython2",
   "version": "2.7.6"
  }
 },
 "nbformat": 4,
 "nbformat_minor": 0
}
