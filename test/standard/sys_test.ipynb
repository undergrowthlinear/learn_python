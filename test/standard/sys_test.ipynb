{
 "cells": [
  {
   "cell_type": "code",
   "execution_count": 8,
   "metadata": {
    "collapsed": true
   },
   "outputs": [
    {
     "name": "stdout",
     "output_type": "stream",
     "text": [
      "['', 'E:\\\\java_other\\\\python\\\\code\\\\learn_python', 'E:\\\\java_other\\\\python\\\\code\\\\learn_python\\\\test\\\\spider\\\\scrapyspider\\\\scrapyspider', 'D:\\\\Users\\\\Administrator\\\\Anaconda3\\\\envs\\\\tensorflow\\\\python35.zip', 'D:\\\\Users\\\\Administrator\\\\Anaconda3\\\\envs\\\\tensorflow\\\\DLLs', 'D:\\\\Users\\\\Administrator\\\\Anaconda3\\\\envs\\\\tensorflow\\\\lib', 'D:\\\\Users\\\\Administrator\\\\Anaconda3\\\\envs\\\\tensorflow', 'D:\\\\Users\\\\Administrator\\\\Anaconda3\\\\envs\\\\tensorflow\\\\lib\\\\site-packages', 'D:\\\\Users\\\\Administrator\\\\Anaconda3\\\\envs\\\\tensorflow\\\\lib\\\\site-packages\\\\firstthirdpackage-0.0.1-py3.5.egg', 'D:\\\\Users\\\\Administrator\\\\Anaconda3\\\\envs\\\\tensorflow\\\\lib\\\\site-packages\\\\win32', 'D:\\\\Users\\\\Administrator\\\\Anaconda3\\\\envs\\\\tensorflow\\\\lib\\\\site-packages\\\\win32\\\\lib', 'D:\\\\Users\\\\Administrator\\\\Anaconda3\\\\envs\\\\tensorflow\\\\lib\\\\site-packages\\\\Pythonwin', 'D:\\\\Users\\\\Administrator\\\\Anaconda3\\\\envs\\\\tensorflow\\\\lib\\\\site-packages\\\\IPython\\\\extensions', 'C:\\\\Users\\\\Administrator\\\\.ipython']\n['D:\\\\Users\\\\Administrator\\\\Anaconda3\\\\envs\\\\tensorflow\\\\lib\\\\site-packages\\\\ipykernel_launcher.py', '-f', 'C:\\\\Users\\\\Administrator\\\\AppData\\\\Roaming\\\\jupyter\\\\runtime\\\\kernel-b625c742-4247-4190-80ff-d721c1dff50e.json']\n"
     ]
    }
   ],
   "source": [
    "import sys\n",
    "print(sys.path)\n",
    "print(sys.argv)\n",
    "# print(sys.modules)"
   ]
  },
  {
   "cell_type": "code",
   "execution_count": 9,
   "metadata": {},
   "outputs": [
    {
     "name": "stdout",
     "output_type": "stream",
     "text": [
      "('_ast', '_bisect', '_codecs', '_codecs_cn', '_codecs_hk', '_codecs_iso2022', '_codecs_jp', '_codecs_kr', '_codecs_tw', '_collections', '_csv', '_datetime', '_functools', '_heapq', '_imp', '_io', '_json', '_locale', '_lsprof', '_md5', '_multibytecodec', '_opcode', '_operator', '_pickle', '_random', '_sha1', '_sha256', '_sha512', '_signal', '_sre', '_stat', '_string', '_struct', '_symtable', '_thread', '_tracemalloc', '_warnings', '_weakref', '_winapi', 'array', 'atexit', 'audioop', 'binascii', 'builtins', 'cmath', 'errno', 'faulthandler', 'gc', 'itertools', 'marshal', 'math', 'mmap', 'msvcrt', 'nt', 'parser', 'sys', 'time', 'winreg', 'xxsubtype', 'zipimport', 'zlib')\n##############################分隔符##############################\n"
     ]
    }
   ],
   "source": [
    "sep='##############################分隔符##############################'\n",
    "print(sys.builtin_module_names)\n",
    "print(sep)\n",
    "# print(sys.copyright)"
   ]
  },
  {
   "cell_type": "code",
   "execution_count": 10,
   "metadata": {},
   "outputs": [
    {
     "name": "stdout",
     "output_type": "stream",
     "text": [
      "sys.float_info(max=1.7976931348623157e+308, max_exp=1024, max_10_exp=308, min=2.2250738585072014e-308, min_exp=-1021, min_10_exp=-307, dig=15, mant_dig=53, epsilon=2.220446049250313e-16, radix=2, rounds=1)\nsys.hash_info(width=64, modulus=2305843009213693951, inf=314159, nan=0, imag=1000003, algorithm='siphash24', hash_bits=64, seed_bits=128, cutoff=0)\n"
     ]
    }
   ],
   "source": [
    "print(sys.float_info)\n",
    "print(sys.hash_info)"
   ]
  },
  {
   "cell_type": "code",
   "execution_count": 11,
   "metadata": {},
   "outputs": [
    {
     "name": "stdout",
     "output_type": "stream",
     "text": [
      "['D:\\\\Users\\\\Administrator\\\\Anaconda3\\\\envs\\\\tensorflow\\\\lib\\\\site-packages\\\\ipykernel_launcher.py', '-f', 'C:\\\\Users\\\\Administrator\\\\AppData\\\\Roaming\\\\jupyter\\\\runtime\\\\kernel-b625c742-4247-4190-80ff-d721c1dff50e.json']\n3\n"
     ]
    }
   ],
   "source": [
    "print(sys.argv)\n",
    "print(len(sys.argv))"
   ]
  },
  {
   "cell_type": "code",
   "execution_count": 13,
   "metadata": {},
   "outputs": [
    {
     "name": "stdout",
     "output_type": "stream",
     "text": [
      "win32\n3.5.5 |Anaconda, Inc.| (default, Mar 12 2018, 17:44:09) [MSC v.1900 64 bit (AMD64)]\n"
     ]
    }
   ],
   "source": [
    "print(sys.platform)\n",
    "print(sys.version)"
   ]
  }
 ],
 "metadata": {
  "kernelspec": {
   "display_name": "Python 2",
   "language": "python",
   "name": "python2"
  },
  "language_info": {
   "codemirror_mode": {
    "name": "ipython",
    "version": 2
   },
   "file_extension": ".py",
   "mimetype": "text/x-python",
   "name": "python",
   "nbconvert_exporter": "python",
   "pygments_lexer": "ipython2",
   "version": "2.7.6"
  }
 },
 "nbformat": 4,
 "nbformat_minor": 0
}
