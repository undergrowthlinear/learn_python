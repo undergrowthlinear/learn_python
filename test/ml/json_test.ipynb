{
 "cells": [
  {
   "cell_type": "code",
   "execution_count": 2,
   "metadata": {
    "collapsed": false
   },
   "outputs": [
    {
     "data": {
      "text/plain": [
       "'[\"foo\", {\"bar\": [\"baz\", null, 1.0, 2]}]'"
      ]
     },
     "execution_count": 2,
     "metadata": {},
     "output_type": "execute_result"
    }
   ],
   "source": [
    "import json\n",
    "json.dumps(['foo', {'bar': ('baz', None, 1.0, 2)}])\n"
   ]
  },
  {
   "cell_type": "code",
   "execution_count": 3,
   "metadata": {},
   "outputs": [
    {
     "name": "stdout",
     "output_type": "stream",
     "text": [
      "{\"a\": 0, \"b\": 0, \"c\": 0}\n"
     ]
    }
   ],
   "source": [
    "print(json.dumps({\"c\": 0, \"b\": 0, \"a\": 0}, sort_keys=True))"
   ]
  },
  {
   "cell_type": "code",
   "execution_count": 4,
   "metadata": {},
   "outputs": [
    {
     "data": {
      "text/plain": [
       "'[\"streaming API\"]'"
      ]
     },
     "execution_count": 4,
     "metadata": {},
     "output_type": "execute_result"
    }
   ],
   "source": [
    "from io import StringIO\n",
    "io=StringIO()\n",
    "json.dump(['streaming API'], io)\n",
    "io.getvalue()"
   ]
  },
  {
   "cell_type": "code",
   "execution_count": 8,
   "metadata": {
    "collapsed": false
   },
   "outputs": [
    {
     "name": "stdout",
     "output_type": "stream",
     "text": [
      "[1,2,3,{\"4\":5,\"6\":7}] <class 'str'> <class 'list'>\n"
     ]
    }
   ],
   "source": [
    "from collections import OrderedDict\n",
    "mydict = OrderedDict([('4', 5), ('6', 7)])\n",
    "json_str=json.dumps([1,2,3,mydict], separators=(',', ':'))\n",
    "print(json_str,type(json_str),type([1,2,3,mydict]))"
   ]
  },
  {
   "cell_type": "code",
   "execution_count": 9,
   "metadata": {},
   "outputs": [
    {
     "name": "stdout",
     "output_type": "stream",
     "text": [
      "{\n    \"4\": 5,\n    \"6\": 7\n}\n"
     ]
    }
   ],
   "source": [
    "print(json.dumps({'4': 5, '6': 7}, sort_keys=True, indent=4))"
   ]
  },
  {
   "cell_type": "code",
   "execution_count": 10,
   "metadata": {},
   "outputs": [
    {
     "data": {
      "text/plain": [
       "True"
      ]
     },
     "execution_count": 10,
     "metadata": {},
     "output_type": "execute_result"
    }
   ],
   "source": [
    "obj = ['foo', {'bar': ['baz', None, 1.0, 2]}]\n",
    "json.loads('[\"foo\", {\"bar\":[\"baz\", null, 1.0, 2]}]') == obj"
   ]
  },
  {
   "cell_type": "code",
   "execution_count": 17,
   "metadata": {
    "collapsed": true
   },
   "outputs": [
    {
     "name": "stdout",
     "output_type": "stream",
     "text": [
      "[\"streaming API\"]\n"
     ]
    }
   ],
   "source": [
    "from io import StringIO\n",
    "io=StringIO()\n",
    "json.dump(['streaming API'], io)\n",
    "print(io.getvalue())\n",
    "#json.load(io)"
   ]
  },
  {
   "cell_type": "code",
   "execution_count": 18,
   "metadata": {},
   "outputs": [
    {
     "data": {
      "text/plain": [
       "True"
      ]
     },
     "execution_count": 18,
     "metadata": {},
     "output_type": "execute_result"
    }
   ],
   "source": [
    "from io import StringIO\n",
    "io = StringIO('[\"streaming API\"]')\n",
    "json.load(io)[0] == 'streaming API'"
   ]
  },
  {
   "cell_type": "code",
   "execution_count": 20,
   "metadata": {
    "collapsed": true
   },
   "outputs": [
    {
     "data": {
      "text/plain": [
       "(1+2j)"
      ]
     },
     "execution_count": 20,
     "metadata": {},
     "output_type": "execute_result"
    }
   ],
   "source": [
    "import json\n",
    "\n",
    "def as_complex(dct):\n",
    "    if '__complex__' in dct:\n",
    "        return complex(dct['real'], dct['imag'])\n",
    "    return dct\n",
    "\n",
    "json.loads('{\"__complex__\": true, \"real\": 1, \"imag\": 2}',object_hook=as_complex)\n"
   ]
  },
  {
   "cell_type": "code",
   "execution_count": null,
   "metadata": {},
   "outputs": [],
   "source": []
  }
 ],
 "metadata": {
  "kernelspec": {
   "display_name": "Python 2",
   "language": "python",
   "name": "python2"
  },
  "language_info": {
   "codemirror_mode": {
    "name": "ipython",
    "version": 2
   },
   "file_extension": ".py",
   "mimetype": "text/x-python",
   "name": "python",
   "nbconvert_exporter": "python",
   "pygments_lexer": "ipython2",
   "version": "2.7.6"
  }
 },
 "nbformat": 4,
 "nbformat_minor": 0
}
