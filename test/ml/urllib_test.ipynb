{
 "cells": [
  {
   "cell_type": "code",
   "execution_count": 16,
   "metadata": {
    "collapsed": false
   },
   "outputs": [
    {
     "name": "stdout",
     "output_type": "stream",
     "text": [
      "200 [('Accept-Ranges', 'bytes'), ('Cache-Control', 'max-age=86400'), ('Content-Length', '15821'), ('Content-Type', 'text/html'), ('Date', 'Fri, 23 Mar 2018 06:30:25 GMT'), ('Etag', '\"3dcd-560eb5cea6700\"'), ('Expires', 'Sat, 24 Mar 2018 06:30:25 GMT'), ('Last-Modified', 'Fri, 22 Dec 2017 10:34:36 GMT'), ('P3p', 'CP=\" OTI DSP COR IVA OUR IND COM \"'), ('Server', 'Apache'), ('Set-Cookie', 'BAIDUID=780DECD9A76608F4F80F290D50A06818:FG=1; expires=Sat, 23-Mar-19 06:30:25 GMT; max-age=31536000; path=/; domain=.baidu.com; version=1'), ('Vary', 'Accept-Encoding,User-Agent'), ('Connection', 'close')] Apache\nParseResult(scheme='https', netloc='www.baidu.com', path='/s', params='', query='wd=q&rsv_spt=1&rsv_iqid=0xdc3e8b160005c01f&issp=1&f=8&rsv_bp=0&rsv_idx=2&ie=utf-8&tn=baiduhome_pg&rsv_enter=1&rsv_sug3=2&rsv_sug1=1&rsv_sug7=100&rsv_sug2=0&inputT=610&rsv_sug4=1035', fragment='')\n"
     ]
    },
    {
     "name": "stdout",
     "output_type": "stream",
     "text": [
      "TIME OUT\n"
     ]
    }
   ],
   "source": [
    "import urllib.request\n",
    "import urllib.parse\n",
    "import urllib.error\n",
    "import socket\n",
    "\n",
    "url='https://www.baidu.com/s?wd=q&rsv_spt=1&rsv_iqid=0xdc3e8b160005c01f&issp=1&f=8&rsv_bp=0&rsv_idx=2&ie=utf-8&tn=baiduhome_pg&rsv_enter=1&rsv_sug3=2&rsv_sug1=1&rsv_sug7=100&rsv_sug2=0&inputT=610&rsv_sug4=1035'\n",
    "data=bytes(urllib.parse.urlencode({'name':'hello'}),encoding='utf-8')\n",
    "response=urllib.request.urlopen(url,timeout=1,data=data)\n",
    "print(response.status,response.getheaders(),response.getheader('Server'))\n",
    "#print(response.read().decode('utf-8'))\n",
    "print(urllib.parse.urlparse(url))\n",
    "\n",
    "try:\n",
    "    response = urllib.request.urlopen('http://httpbin.org/get',timeout=0.1)\n",
    "except urllib.error.URLError as e:\n",
    "    if isinstance(e.reason,socket.timeout):\n",
    "        print('TIME OUT')\n",
    "\n"
   ]
  },
  {
   "cell_type": "code",
   "execution_count": null,
   "metadata": {},
   "outputs": [],
   "source": []
  }
 ],
 "metadata": {
  "kernelspec": {
   "display_name": "Python 2",
   "language": "python",
   "name": "python2"
  },
  "language_info": {
   "codemirror_mode": {
    "name": "ipython",
    "version": 2
   },
   "file_extension": ".py",
   "mimetype": "text/x-python",
   "name": "python",
   "nbconvert_exporter": "python",
   "pygments_lexer": "ipython2",
   "version": "2.7.6"
  }
 },
 "nbformat": 4,
 "nbformat_minor": 0
}
