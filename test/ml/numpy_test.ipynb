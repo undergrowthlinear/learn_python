{
 "cells": [
  {
   "cell_type": "code",
   "execution_count": 13,
   "metadata": {
    "collapsed": true
   },
   "outputs": [],
   "source": [
    "import numpy as np"
   ]
  },
  {
   "cell_type": "heading",
   "metadata": {},
   "level": 1,
   "source": [
    "NumPy的基础是一个同构的多维数据，数组中的元素可以通过下标来索引。在NumPy中，维度称之为axis（复数是axes），维度的数量称之为rank"
   ]
  },
  {
   "cell_type": "markdown",
   "metadata": {},
   "source": [
    "NumPy的数组类是ndarray，它有一个别名是 numpy.array，但这与Python标准库的array.array并不一样。后者仅仅是一个一维数组。而ndarray具有以下的属性：\n",
    "\n",
    "ndarray.ndim：数组的维数。在Python世界中，维数称之为rank\n",
    "ndarray.shape：数组的维度。这是一系列数字，长度由数组的维度（ndim）决定。例如：长度为n的一维数组的shape是(n)。一个n行m列的矩阵的shape是(n,m)\n",
    "ndarray.size：数组中所有元素的数量\n",
    "ndarray.dtype：数组中元素的类型，例如numpy.int32, numpy.int16或者numpy.float64\n",
    "ndarray.itemsize：数组中每个元素的大小，单位为字节\n",
    "ndarray.data：存储数组元素的缓冲。通常我们只需要通过下标来访问元素，而不需要访问缓冲"
   ]
  },
  {
   "cell_type": "code",
   "execution_count": 5,
   "metadata": {},
   "outputs": [
    {
     "name": "stdout",
     "output_type": "stream",
     "text": [
      "[1 2 3]\n[[1 2 3]\n [4 5 6]]\n"
     ]
    }
   ],
   "source": [
    "a=np.array([1,2,3])\n",
    "b=np.array([(1,2,3),(4,5,6)])\n",
    "print(a)\n",
    "print(b)"
   ]
  },
  {
   "cell_type": "code",
   "execution_count": 6,
   "metadata": {},
   "outputs": [
    {
     "name": "stdout",
     "output_type": "stream",
     "text": [
      "a's ndim 2\na's share (2, 3)\na's size 6\na's dtype int32\na's itemsize 4\n"
     ]
    }
   ],
   "source": [
    "print(\"a's ndim {}\".format(b.ndim))\n",
    "print(\"a's share {}\".format(b.shape))\n",
    "print(\"a's size {}\".format(b.size))\n",
    "print(\"a's dtype {}\".format(b.dtype))\n",
    "print(\"a's itemsize {}\".format(b.itemsize))"
   ]
  },
  {
   "cell_type": "code",
   "execution_count": 16,
   "metadata": {
    "collapsed": true
   },
   "outputs": [
    {
     "name": "stdout",
     "output_type": "stream",
     "text": [
      "np.zeros [[0. 0. 0.]\n [0. 0. 0.]]\nnp.ones [[1. 1. 1. 1.]\n [1. 1. 1. 1.]\n [1. 1. 1. 1.]]\nnp.empty [[1. 1. 1. 1.]\n [1. 1. 1. 1.]\n [1. 1. 1. 1.]]\nnp.arange [1 2 3]\nnp.linspace [1.         1.15789474 1.31578947 1.47368421 1.63157895 1.78947368\n 1.94736842 2.10526316 2.26315789 2.42105263 2.57894737 2.73684211\n 2.89473684 3.05263158 3.21052632 3.36842105 3.52631579 3.68421053\n 3.84210526 4.        ]\nnp.random.random [[0.36527269 0.34463593 0.73668106]\n [0.34360103 0.86645748 0.72572932]]\n"
     ]
    }
   ],
   "source": [
    "print('np.zeros',np.zeros((2,3)))\n",
    "print('np.ones',np.ones((3,4)))\n",
    "print('np.empty',np.empty((3,4)))\n",
    "print('np.arange',np.arange(1,4))\n",
    "print('np.linspace',np.linspace(1,4,20))\n",
    "print('np.random.random',np.random.random((2,3)))"
   ]
  },
  {
   "cell_type": "code",
   "execution_count": 29,
   "metadata": {},
   "outputs": [
    {
     "name": "stdout",
     "output_type": "stream",
     "text": [
      "zero_line is [[0. 0. 0.]]\none_column is [[1.]\n [1.]\n [1.]]\na is [[1 2 3]\n [4 5 6]]\nb is [11 12 13 14 15 16 17 18 19]\n2 2 1\nb.reshape(3,-1) is [[11 12 13]\n [14 15 16]\n [17 18 19]]\nc is [[ 0.  0.  0.]\n [ 1.  2.  3.]\n [ 4.  5.  6.]\n [11. 12. 13.]\n [14. 15. 16.]\n [17. 18. 19.]]\nd is [[ 1.  2. 11. 12. 13.  1.]\n [ 3.  4. 14. 15. 16.  1.]\n [ 5.  6. 17. 18. 19.  1.]]\n"
     ]
    }
   ],
   "source": [
    "zero_line=np.zeros((1,3))\n",
    "print('zero_line is {}'.format(zero_line))\n",
    "one_column=np.ones((3,1))\n",
    "print('one_column is {}'.format(one_column))\n",
    "a=np.array([(1,2,3),(4,5,6)])\n",
    "b=np.arange(11,20)\n",
    "print('a is {}'.format(a))\n",
    "print('b is {}'.format(b))\n",
    "print(zero_line.ndim,a.ndim,b.ndim)\n",
    "b=b.reshape(3,-1)\n",
    "print('b.reshape(3,-1) is {}'.format(b))\n",
    "# vstack 保持列数一致\n",
    "c=np.vstack((zero_line,a,b))\n",
    "print('c is {}'.format(c))\n",
    "# hstack 保持行数一致\n",
    "a=a.reshape(3,2)\n",
    "d=np.hstack((a,b,one_column))\n",
    "print('d is {}'.format(d))"
   ]
  },
  {
   "cell_type": "code",
   "execution_count": 33,
   "metadata": {},
   "outputs": [
    {
     "ename": "ValueError",
     "evalue": "array split does not result in an equal division",
     "traceback": [
      "\u001b[1;31m---------------------------------------------------------------------------\u001b[0m",
      "\u001b[1;31mTypeError\u001b[0m                                 Traceback (most recent call last)",
      "\u001b[1;32mD:\\Users\\Administrator\\Anaconda3\\lib\\site-packages\\numpy\\lib\\shape_base.py\u001b[0m in \u001b[0;36msplit\u001b[1;34m(ary, indices_or_sections, axis)\u001b[0m\n\u001b[0;32m    552\u001b[0m     \u001b[1;32mtry\u001b[0m\u001b[1;33m:\u001b[0m\u001b[1;33m\u001b[0m\u001b[0m\n\u001b[1;32m--> 553\u001b[1;33m         \u001b[0mlen\u001b[0m\u001b[1;33m(\u001b[0m\u001b[0mindices_or_sections\u001b[0m\u001b[1;33m)\u001b[0m\u001b[1;33m\u001b[0m\u001b[0m\n\u001b[0m\u001b[0;32m    554\u001b[0m     \u001b[1;32mexcept\u001b[0m \u001b[0mTypeError\u001b[0m\u001b[1;33m:\u001b[0m\u001b[1;33m\u001b[0m\u001b[0m\n",
      "\u001b[1;31mTypeError\u001b[0m: object of type 'int' has no len()",
      "\nDuring handling of the above exception, another exception occurred:\n",
      "\u001b[1;31mValueError\u001b[0m                                Traceback (most recent call last)",
      "\u001b[1;32m<ipython-input-33-d63ab3a92d4d>\u001b[0m in \u001b[0;36m<module>\u001b[1;34m()\u001b[0m\n\u001b[0;32m      1\u001b[0m \u001b[0me\u001b[0m\u001b[1;33m=\u001b[0m\u001b[0mnp\u001b[0m\u001b[1;33m.\u001b[0m\u001b[0mhsplit\u001b[0m\u001b[1;33m(\u001b[0m\u001b[0md\u001b[0m\u001b[1;33m,\u001b[0m\u001b[1;36m3\u001b[0m\u001b[1;33m)\u001b[0m\u001b[1;33m\u001b[0m\u001b[0m\n\u001b[0;32m      2\u001b[0m \u001b[1;31m#print(e)\u001b[0m\u001b[1;33m\u001b[0m\u001b[1;33m\u001b[0m\u001b[0m\n\u001b[1;32m----> 3\u001b[1;33m \u001b[0mf\u001b[0m\u001b[1;33m=\u001b[0m\u001b[0mnp\u001b[0m\u001b[1;33m.\u001b[0m\u001b[0mhsplit\u001b[0m\u001b[1;33m(\u001b[0m\u001b[0md\u001b[0m\u001b[1;33m,\u001b[0m\u001b[1;36m4\u001b[0m\u001b[1;33m)\u001b[0m\u001b[1;33m\u001b[0m\u001b[0m\n\u001b[0m\u001b[0;32m      4\u001b[0m \u001b[0mprint\u001b[0m\u001b[1;33m(\u001b[0m\u001b[0mf\u001b[0m\u001b[1;33m)\u001b[0m\u001b[1;33m\u001b[0m\u001b[0m\n",
      "\u001b[1;32mD:\\Users\\Administrator\\Anaconda3\\lib\\site-packages\\numpy\\lib\\shape_base.py\u001b[0m in \u001b[0;36mhsplit\u001b[1;34m(ary, indices_or_sections)\u001b[0m\n\u001b[0;32m    619\u001b[0m         \u001b[1;32mraise\u001b[0m \u001b[0mValueError\u001b[0m\u001b[1;33m(\u001b[0m\u001b[1;34m'hsplit only works on arrays of 1 or more dimensions'\u001b[0m\u001b[1;33m)\u001b[0m\u001b[1;33m\u001b[0m\u001b[0m\n\u001b[0;32m    620\u001b[0m     \u001b[1;32mif\u001b[0m \u001b[0mary\u001b[0m\u001b[1;33m.\u001b[0m\u001b[0mndim\u001b[0m \u001b[1;33m>\u001b[0m \u001b[1;36m1\u001b[0m\u001b[1;33m:\u001b[0m\u001b[1;33m\u001b[0m\u001b[0m\n\u001b[1;32m--> 621\u001b[1;33m         \u001b[1;32mreturn\u001b[0m \u001b[0msplit\u001b[0m\u001b[1;33m(\u001b[0m\u001b[0mary\u001b[0m\u001b[1;33m,\u001b[0m \u001b[0mindices_or_sections\u001b[0m\u001b[1;33m,\u001b[0m \u001b[1;36m1\u001b[0m\u001b[1;33m)\u001b[0m\u001b[1;33m\u001b[0m\u001b[0m\n\u001b[0m\u001b[0;32m    622\u001b[0m     \u001b[1;32melse\u001b[0m\u001b[1;33m:\u001b[0m\u001b[1;33m\u001b[0m\u001b[0m\n\u001b[0;32m    623\u001b[0m         \u001b[1;32mreturn\u001b[0m \u001b[0msplit\u001b[0m\u001b[1;33m(\u001b[0m\u001b[0mary\u001b[0m\u001b[1;33m,\u001b[0m \u001b[0mindices_or_sections\u001b[0m\u001b[1;33m,\u001b[0m \u001b[1;36m0\u001b[0m\u001b[1;33m)\u001b[0m\u001b[1;33m\u001b[0m\u001b[0m\n",
      "\u001b[1;32mD:\\Users\\Administrator\\Anaconda3\\lib\\site-packages\\numpy\\lib\\shape_base.py\u001b[0m in \u001b[0;36msplit\u001b[1;34m(ary, indices_or_sections, axis)\u001b[0m\n\u001b[0;32m    557\u001b[0m         \u001b[1;32mif\u001b[0m \u001b[0mN\u001b[0m \u001b[1;33m%\u001b[0m \u001b[0msections\u001b[0m\u001b[1;33m:\u001b[0m\u001b[1;33m\u001b[0m\u001b[0m\n\u001b[0;32m    558\u001b[0m             raise ValueError(\n\u001b[1;32m--> 559\u001b[1;33m                 'array split does not result in an equal division')\n\u001b[0m\u001b[0;32m    560\u001b[0m     \u001b[0mres\u001b[0m \u001b[1;33m=\u001b[0m \u001b[0marray_split\u001b[0m\u001b[1;33m(\u001b[0m\u001b[0mary\u001b[0m\u001b[1;33m,\u001b[0m \u001b[0mindices_or_sections\u001b[0m\u001b[1;33m,\u001b[0m \u001b[0maxis\u001b[0m\u001b[1;33m)\u001b[0m\u001b[1;33m\u001b[0m\u001b[0m\n\u001b[0;32m    561\u001b[0m     \u001b[1;32mreturn\u001b[0m \u001b[0mres\u001b[0m\u001b[1;33m\u001b[0m\u001b[0m\n",
      "\u001b[1;31mValueError\u001b[0m: array split does not result in an equal division"
     ],
     "output_type": "error"
    }
   ],
   "source": [
    "e=np.hsplit(d,3)\n",
    "print(e)\n",
    "#f=np.hsplit(d,4)\n",
    "#print(f)"
   ]
  },
  {
   "cell_type": "code",
   "execution_count": 35,
   "metadata": {},
   "outputs": [
    {
     "name": "stdout",
     "output_type": "stream",
     "text": [
      "[array([[ 1.,  2., 11., 12., 13.,  1.]]), array([[ 3.,  4., 14., 15., 16.,  1.]]), array([[ 5.,  6., 17., 18., 19.,  1.]])]\n"
     ]
    }
   ],
   "source": [
    "g=np.vsplit(d,3)\n",
    "print(g)"
   ]
  },
  {
   "cell_type": "code",
   "execution_count": 45,
   "metadata": {},
   "outputs": [
    {
     "name": "stdout",
     "output_type": "stream",
     "text": [
      "base_data is [100 101 102 103 104 105 106 107 108 109 110 111 112 113 114 115 116 117\n 118 119 120 121 122 123 124 125 126 127 128 129 130 131 132 133 134 135\n 136 137 138 139 140 141 142 143 144 145 146 147 148 149 150 151 152 153\n 154 155 156 157 158 159 160 161 162 163 164 165 166 167 168 169 170 171\n 172 173 174 175 176 177 178 179 180 181 182 183 184 185 186 187 188 189\n 190 191 192 193 194 195 196 197 198 199]\nbase_data in five index [100 105 110 115 120 125 130 135 140 145 150 155 160 165 170 175 180 185\n 190 195]\nbase_data in array [[101 102]\n [110 120]]\nbase_data is [[100 101 102 103 104 105 106 107 108 109]\n [110 111 112 113 114 115 116 117 118 119]\n [120 121 122 123 124 125 126 127 128 129]\n [130 131 132 133 134 135 136 137 138 139]\n [140 141 142 143 144 145 146 147 148 149]\n [150 151 152 153 154 155 156 157 158 159]\n [160 161 162 163 164 165 166 167 168 169]\n [170 171 172 173 174 175 176 177 178 179]\n [180 181 182 183 184 185 186 187 188 189]\n [190 191 192 193 194 195 196 197 198 199]]\naccess base_data  [120 121 122 123 124 125 126 127 128 129] 123 199\nbase_data[2,:] is [120 121 122 123 124 125 126 127 128 129]\nbase_data[:,3] is [103 113 123 133 143 153 163 173 183 193]\nbase_data[2:5,3:5] is [[123 124]\n [133 134]\n [143 144]]\n"
     ]
    }
   ],
   "source": [
    "import numpy as np\n",
    "base_data=np.arange(100,200)\n",
    "print('base_data is {}'.format(base_data))\n",
    "every_five=np.arange(0,100,5)\n",
    "print('base_data in five index {}'.format(base_data[every_five]))\n",
    "a=np.array([(1,2),(10,20)])\n",
    "print('base_data in array {}'.format(base_data[a]))\n",
    "base_data=base_data.reshape((10,-1))\n",
    "print('base_data is {}'.format(base_data))\n",
    "print('access base_data ',base_data[2],base_data[2,3],base_data[-1,-1])\n",
    "print('base_data[2,:] is {}'.format(base_data[2,:]))\n",
    "print('base_data[:,3] is {}'.format(base_data[:,3]))\n",
    "print('base_data[2:5,3:5] is {}'.format(base_data[2:5,3:5]))"
   ]
  },
  {
   "cell_type": "code",
   "execution_count": 48,
   "metadata": {},
   "outputs": [
    {
     "name": "stdout",
     "output_type": "stream",
     "text": [
      "base_data is [[-30.56811268  21.85090306 -14.12926569 -17.44078125   8.54818383]\n [-45.07914778   9.04126277 -48.51152272  -4.20347391  39.02095991]\n [ 18.2118767  -42.29759621  -0.62797765  21.90497154 -22.65531617]\n [ 31.75266007 -15.35712318  36.46343797 -30.72057514  16.49600579]\n [ 34.28033712  17.69832221 -21.32255896  32.80703491  18.64483734]]\nnp.amin(base_data) is -48.511522717791\nnp.amax(base_data) is 39.02095990743025\nnp.average(base_data) is 0.5522936757837216\nnp.sum(base_data) is 13.80734189459304\nnp.sin(base_data) is [[ 0.7498358   0.13978622 -0.99996879  0.98690318  0.76856436]\n [-0.8897744   0.3741826   0.98327243  0.87327363  0.96917209]\n [-0.59533235  0.99351988 -0.58750944  0.08607041  0.61640388]\n [ 0.33040585 -0.34368684 -0.94437004  0.64065529 -0.70897415]\n [ 0.27364637 -0.9132672  -0.61987988  0.98389951 -0.20329163]]\n"
     ]
    }
   ],
   "source": [
    "import numpy as np\n",
    "base_data=(np.random.random((5,5))-0.5)*100\n",
    "print('base_data is {}'.format(base_data))\n",
    "print('np.amin(base_data) is {}'.format(np.amin(base_data)))\n",
    "print('np.amax(base_data) is {}'.format(np.amax(base_data)))\n",
    "print('np.average(base_data) is {}'.format(np.average(base_data)))\n",
    "print('np.sum(base_data) is {}'.format(np.sum(base_data)))\n",
    "print('np.sin(base_data) is {}'.format(np.sin(base_data)))\n"
   ]
  },
  {
   "cell_type": "code",
   "execution_count": 60,
   "metadata": {
    "collapsed": false
   },
   "outputs": [
    {
     "name": "stdout",
     "output_type": "stream",
     "text": [
      "base_data is [[-31.  -2.  31.  45.  40.]\n [ 28. -47.  45.  29.  26.]\n [ -9. -44.  28. -10. -45.]\n [-25. -27. -13.   5. -12.]\n [-16.  -7.  21. -13. -46.]]\nbase_data.T is [[-31.  28.  -9. -25. -16.]\n [ -2. -47. -44. -27.  -7.]\n [ 31.  45.  28. -13.  21.]\n [ 45.  29. -10.   5. -13.]\n [ 40.  26. -45. -12. -46.]]\nbase_data.transpose() is [[-31.  28.  -9. -25. -16.]\n [ -2. -47. -44. -27.  -7.]\n [ 31.  45.  28. -13.  21.]\n [ 45.  29. -10.   5. -13.]\n [ 40.  26. -45. -12. -46.]]\nmatrix_one is [[1. 1. 1. 1. 1.]\n [1. 1. 1. 1. 1.]\n [1. 1. 1. 1. 1.]\n [1. 1. 1. 1. 1.]\n [1. 1. 1. 1. 1.]]\nbase_data is [[-31.  -2.  31.  45.  40.]\n [ 28. -47.  45.  29.  26.]\n [ -9. -44.  28. -10. -45.]\n [-25. -27. -13.   5. -12.]\n [-16.  -7.  21. -13. -46.]]\nminus_one is [[-1. -1. -1. -1. -1.]\n [-1. -1. -1. -1. -1.]\n [-1. -1. -1. -1. -1.]\n [-1. -1. -1. -1. -1.]\n [-1. -1. -1. -1. -1.]]\nbase_data*minus_one is [[-83. -83. -83. -83. -83.]\n [-81. -81. -81. -81. -81.]\n [ 80.  80.  80.  80.  80.]\n [ 72.  72.  72.  72.  72.]\n [ 61.  61.  61.  61.  61.]]\n"
     ]
    }
   ],
   "source": [
    "import numpy as np\n",
    "base_data=np.floor((np.random.random((5,5))-0.5)*100)\n",
    "print('base_data is {}'.format(base_data))\n",
    "print('base_data.T is {}'.format(base_data.T))\n",
    "print('base_data.transpose() is {}'.format(base_data.transpose()))\n",
    "matrix_one=np.ones((5,5))\n",
    "print('matrix_one is {}'.format(matrix_one))\n",
    "minus_one=np.dot(matrix_one,-1)\n",
    "print('base_data is {}'.format(base_data))\n",
    "print('minus_one is {}'.format(minus_one))\n",
    "# 矩阵相乘等于 m行与n列对应位置上所有元素相乘再相加和\n",
    "print('base_data*minus_one is {}'.format(np.dot(base_data,minus_one)))\n"
   ]
  },
  {
   "cell_type": "code",
   "execution_count": 64,
   "metadata": {},
   "outputs": [
    {
     "name": "stdout",
     "output_type": "stream",
     "text": [
      "random:[0.00675045 0.44775276 0.19905813 0.11184593 0.55069153 0.55767746\n 0.38170719 0.32889903 0.14526909 0.63582142 0.34101588 0.12011544\n 0.76646781 0.28610448 0.41939623 0.18351233 0.67498127 0.02135089\n 0.93519104 0.6871007 ]\nrandom:[[0.39315711 0.32110438 0.57408611 0.10133076]\n [0.59591205 0.86388437 0.57903825 0.92276517]\n [0.0675214  0.09284112 0.92927683 0.07833302]]\nrandint:[71 57 88 62 97 87 28 33 97 43 24 24 86 31 35 59 42 42 92 39]\nnp.random.permutation:[13  3 18  2  7 17 12 15  8  5 11  6  0 19  9 10  1  4 14 16]\n"
     ]
    }
   ],
   "source": [
    "import numpy as np\n",
    "print('random:{}'.format(np.random.random(20)))\n",
    "print('random:{}'.format(np.random.random((3,4))))\n",
    "print('randint:{}'.format(np.random.randint(0,100,20)))\n",
    "print('np.random.permutation:{}'.format(np.random.permutation(np.arange(20))))"
   ]
  },
  {
   "cell_type": "code",
   "execution_count": null,
   "metadata": {},
   "outputs": [],
   "source": []
  }
 ],
 "metadata": {
  "kernelspec": {
   "display_name": "Python 2",
   "language": "python",
   "name": "python2"
  },
  "language_info": {
   "codemirror_mode": {
    "name": "ipython",
    "version": 2
   },
   "file_extension": ".py",
   "mimetype": "text/x-python",
   "name": "python",
   "nbconvert_exporter": "python",
   "pygments_lexer": "ipython2",
   "version": "2.7.6"
  }
 },
 "nbformat": 4,
 "nbformat_minor": 0
}
